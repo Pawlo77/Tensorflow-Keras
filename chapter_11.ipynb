{
 "cells": [
  {
   "cell_type": "code",
   "execution_count": 1,
   "metadata": {},
   "outputs": [],
   "source": [
    "import tensorflow as tf\n",
    "import tensorflow.keras as keras\n",
    "from  tensorflow.keras import layers\n",
    "import numpy as np\n",
    "\n",
    "\n",
    "tf.random.set_seed(42)\n",
    "np.random.seed(42)\n",
    "\n",
    "model = keras.models.Sequential([\n",
    "    layers.Dense(10, kernel_initializer=\"he_normal\"),\n",
    "    layers.LeakyReLU(alpha=0.2),   # leaky ReLU\n",
    "    layers.PReLU(),   # PReLU\n",
    "    layers.Dense(10, activation=\"selu\", kernel_initializer=\"lecun_normal\"),    # SELU\n",
    "\n",
    "])"
   ]
  },
  {
   "cell_type": "code",
   "execution_count": 2,
   "metadata": {},
   "outputs": [
    {
     "data": {
      "text/plain": [
       "['Constant',\n",
       " 'GlorotNormal',\n",
       " 'GlorotUniform',\n",
       " 'HeNormal',\n",
       " 'HeUniform',\n",
       " 'Identity',\n",
       " 'Initializer',\n",
       " 'LecunNormal',\n",
       " 'LecunUniform',\n",
       " 'Ones',\n",
       " 'Orthogonal',\n",
       " 'RandomNormal',\n",
       " 'RandomUniform',\n",
       " 'TruncatedNormal',\n",
       " 'VarianceScaling',\n",
       " 'Zeros',\n",
       " 'constant',\n",
       " 'deserialize',\n",
       " 'get',\n",
       " 'glorot_normal',\n",
       " 'glorot_uniform',\n",
       " 'he_normal',\n",
       " 'he_uniform',\n",
       " 'identity',\n",
       " 'lecun_normal',\n",
       " 'lecun_uniform',\n",
       " 'ones',\n",
       " 'orthogonal',\n",
       " 'random_normal',\n",
       " 'random_uniform',\n",
       " 'serialize',\n",
       " 'truncated_normal',\n",
       " 'variance_scaling',\n",
       " 'zeros']"
      ]
     },
     "execution_count": 2,
     "metadata": {},
     "output_type": "execute_result"
    }
   ],
   "source": [
    "[name for name in dir(keras.initializers) if not name.startswith(\"_\")]"
   ]
  },
  {
   "cell_type": "code",
   "execution_count": 3,
   "metadata": {},
   "outputs": [],
   "source": [
    "(X_train, y_train), (X_test, y_test) = tf.keras.datasets.fashion_mnist.load_data()"
   ]
  },
  {
   "cell_type": "code",
   "execution_count": 4,
   "metadata": {},
   "outputs": [],
   "source": [
    "# BatchNormalization after activation\n",
    "model = keras.models.Sequential([\n",
    "    layers.Flatten(input_shape=[28, 28]),\n",
    "    layers.BatchNormalization(),\n",
    "    layers.Dense(300, activation=\"elu\", kernel_initializer=\"he_normal\"),\n",
    "    layers.BatchNormalization(),\n",
    "    layers.Dense(100, activation=\"elu\", kernel_initializer=\"he_normal\"),\n",
    "    layers.BatchNormalization(),\n",
    "    layers.Dense(10, activation=\"softmax\")\n",
    "])"
   ]
  },
  {
   "cell_type": "code",
   "execution_count": 5,
   "metadata": {},
   "outputs": [
    {
     "name": "stdout",
     "output_type": "stream",
     "text": [
      "Model: \"sequential_1\"\n",
      "_________________________________________________________________\n",
      " Layer (type)                Output Shape              Param #   \n",
      "=================================================================\n",
      " flatten (Flatten)           (None, 784)               0         \n",
      "                                                                 \n",
      " batch_normalization (BatchN  (None, 784)              3136      \n",
      " ormalization)                                                   \n",
      "                                                                 \n",
      " dense_2 (Dense)             (None, 300)               235500    \n",
      "                                                                 \n",
      " batch_normalization_1 (Batc  (None, 300)              1200      \n",
      " hNormalization)                                                 \n",
      "                                                                 \n",
      " dense_3 (Dense)             (None, 100)               30100     \n",
      "                                                                 \n",
      " batch_normalization_2 (Batc  (None, 100)              400       \n",
      " hNormalization)                                                 \n",
      "                                                                 \n",
      " dense_4 (Dense)             (None, 10)                1010      \n",
      "                                                                 \n",
      "=================================================================\n",
      "Total params: 271,346\n",
      "Trainable params: 268,978\n",
      "Non-trainable params: 2,368\n",
      "_________________________________________________________________\n"
     ]
    }
   ],
   "source": [
    "model.summary()"
   ]
  },
  {
   "cell_type": "code",
   "execution_count": 6,
   "metadata": {},
   "outputs": [],
   "source": [
    "model.compile(\n",
    "    loss=\"sparse_categorical_crossentropy\",\n",
    "    optimizer=keras.optimizers.SGD(learning_rate=1e-3),\n",
    "    metrics=[\"accuracy\"]\n",
    "    )"
   ]
  },
  {
   "cell_type": "code",
   "execution_count": 7,
   "metadata": {},
   "outputs": [
    {
     "name": "stdout",
     "output_type": "stream",
     "text": [
      "Epoch 1/10\n"
     ]
    },
    {
     "name": "stderr",
     "output_type": "stream",
     "text": [
      "2022-03-31 16:39:25.680207: W tensorflow/core/platform/profile_utils/cpu_utils.cc:128] Failed to get CPU frequency: 0 Hz\n"
     ]
    },
    {
     "name": "stdout",
     "output_type": "stream",
     "text": [
      "891/891 [==============================] - 3s 3ms/step - loss: 1.0290 - accuracy: 0.6575 - val_loss: 0.6998 - val_accuracy: 0.7673\n",
      "Epoch 2/10\n",
      "891/891 [==============================] - 3s 3ms/step - loss: 0.6816 - accuracy: 0.7686 - val_loss: 0.5888 - val_accuracy: 0.7983\n",
      "Epoch 3/10\n",
      "891/891 [==============================] - 3s 3ms/step - loss: 0.6031 - accuracy: 0.7940 - val_loss: 0.5361 - val_accuracy: 0.8127\n",
      "Epoch 4/10\n",
      "891/891 [==============================] - 2s 3ms/step - loss: 0.5620 - accuracy: 0.8085 - val_loss: 0.5030 - val_accuracy: 0.8220\n",
      "Epoch 5/10\n",
      "891/891 [==============================] - 3s 4ms/step - loss: 0.5342 - accuracy: 0.8171 - val_loss: 0.4818 - val_accuracy: 0.8290\n",
      "Epoch 6/10\n",
      "891/891 [==============================] - 2s 3ms/step - loss: 0.5149 - accuracy: 0.8223 - val_loss: 0.4656 - val_accuracy: 0.8340\n",
      "Epoch 7/10\n",
      "891/891 [==============================] - 3s 4ms/step - loss: 0.4972 - accuracy: 0.8281 - val_loss: 0.4527 - val_accuracy: 0.8393\n",
      "Epoch 8/10\n",
      "891/891 [==============================] - 3s 3ms/step - loss: 0.4840 - accuracy: 0.8321 - val_loss: 0.4411 - val_accuracy: 0.8430\n",
      "Epoch 9/10\n",
      "891/891 [==============================] - 2s 3ms/step - loss: 0.4762 - accuracy: 0.8342 - val_loss: 0.4333 - val_accuracy: 0.8453\n",
      "Epoch 10/10\n",
      "891/891 [==============================] - 2s 3ms/step - loss: 0.4633 - accuracy: 0.8389 - val_loss: 0.4257 - val_accuracy: 0.8493\n"
     ]
    }
   ],
   "source": [
    "history = model.fit(\n",
    "    X_train, y_train, \n",
    "    epochs=10, \n",
    "    validation_split=0.05, \n",
    "    batch_size=64,\n",
    "    callbacks=[keras.callbacks.EarlyStopping(patience=20)]\n",
    ")"
   ]
  },
  {
   "cell_type": "code",
   "execution_count": 8,
   "metadata": {},
   "outputs": [],
   "source": [
    "# Batch Normalization before activation function \n",
    "model = keras.models.Sequential([\n",
    "    layers.Flatten(input_shape=[28, 28]),\n",
    "    layers.BatchNormalization(),\n",
    "    layers.Dense(300, use_bias=False, kernel_initializer=\"he_normal\"),\n",
    "    layers.BatchNormalization(),\n",
    "    layers.Activation(\"elu\"),\n",
    "    layers.Dense(100, use_bias=False, kernel_initializer=\"he_normal\"),\n",
    "    layers.BatchNormalization(),\n",
    "    layers.Activation(\"elu\"),\n",
    "    layers.Dense(10, activation=\"softmax\")\n",
    "])"
   ]
  },
  {
   "cell_type": "code",
   "execution_count": 9,
   "metadata": {},
   "outputs": [],
   "source": [
    "model.compile(\n",
    "    loss=\"sparse_categorical_crossentropy\",\n",
    "    optimizer=keras.optimizers.SGD(learning_rate=1e-3),\n",
    "    metrics=[\"accuracy\"]\n",
    "    )"
   ]
  },
  {
   "cell_type": "code",
   "execution_count": 10,
   "metadata": {},
   "outputs": [
    {
     "name": "stdout",
     "output_type": "stream",
     "text": [
      "Epoch 1/10\n",
      "891/891 [==============================] - 3s 3ms/step - loss: 1.0784 - accuracy: 0.6471 - val_loss: 0.7563 - val_accuracy: 0.7567\n",
      "Epoch 2/10\n",
      "891/891 [==============================] - 2s 3ms/step - loss: 0.7282 - accuracy: 0.7615 - val_loss: 0.6374 - val_accuracy: 0.7860\n",
      "Epoch 3/10\n",
      "891/891 [==============================] - 2s 3ms/step - loss: 0.6443 - accuracy: 0.7859 - val_loss: 0.5816 - val_accuracy: 0.8053\n",
      "Epoch 4/10\n",
      "891/891 [==============================] - 3s 3ms/step - loss: 0.5992 - accuracy: 0.7984 - val_loss: 0.5446 - val_accuracy: 0.8130\n",
      "Epoch 5/10\n",
      "891/891 [==============================] - 3s 3ms/step - loss: 0.5688 - accuracy: 0.8071 - val_loss: 0.5222 - val_accuracy: 0.8177\n",
      "Epoch 6/10\n",
      "891/891 [==============================] - 3s 3ms/step - loss: 0.5473 - accuracy: 0.8129 - val_loss: 0.5042 - val_accuracy: 0.8220\n",
      "Epoch 7/10\n",
      "891/891 [==============================] - 3s 3ms/step - loss: 0.5306 - accuracy: 0.8182 - val_loss: 0.4892 - val_accuracy: 0.8273\n",
      "Epoch 8/10\n",
      "891/891 [==============================] - 2s 3ms/step - loss: 0.5159 - accuracy: 0.8221 - val_loss: 0.4771 - val_accuracy: 0.8320\n",
      "Epoch 9/10\n",
      "891/891 [==============================] - 2s 3ms/step - loss: 0.5053 - accuracy: 0.8270 - val_loss: 0.4682 - val_accuracy: 0.8320\n",
      "Epoch 10/10\n",
      "891/891 [==============================] - 2s 3ms/step - loss: 0.4957 - accuracy: 0.8286 - val_loss: 0.4590 - val_accuracy: 0.8343\n"
     ]
    }
   ],
   "source": [
    "# here works much worse\n",
    "\n",
    "history = model.fit(\n",
    "    X_train, y_train, \n",
    "    epochs=10, \n",
    "    validation_split=0.05, \n",
    "    batch_size=64,\n",
    "    callbacks=[keras.callbacks.EarlyStopping(patience=20)]\n",
    ")"
   ]
  },
  {
   "cell_type": "code",
   "execution_count": 11,
   "metadata": {},
   "outputs": [],
   "source": [
    "# for Gradient Clipping with threshold 1.0\n",
    "optimizer = keras.optimizers.SGD(clipvalue=1.0) \n",
    "# or clipnorm, with prevents changing gradient's direction\n",
    "model.compile(loss=\"mse\", optimizer=optimizer)"
   ]
  },
  {
   "cell_type": "code",
   "execution_count": 12,
   "metadata": {},
   "outputs": [],
   "source": [
    "def split_dataset(X, y):\n",
    "    y_5_or_6 = (y == 5) | (y == 6) # sandals or shirts\n",
    "    y_A = y[~y_5_or_6]\n",
    "    y_A[y_A > 6] -= 2 # class indices 7, 8, 9 should be moved to 5, 6, 7\n",
    "    y_B = (y[y_5_or_6] == 6).astype(np.float32) # binary classification task: is it a shirt (class 6)?\n",
    "    return ((X[~y_5_or_6], y_A),\n",
    "            (X[y_5_or_6], y_B))\n",
    "\n",
    "(X_train_A, y_train_A), (X_train_B, y_train_B) = split_dataset(X_train, y_train)\n",
    "(X_test_A, y_test_A), (X_test_B, y_test_B) = split_dataset(X_test, y_test)\n",
    "X_train_B = X_train_B[:200]\n",
    "y_train_B = y_train_B[:200]\n",
    "\n",
    "# A: all images of items except for sandals and shirts\n",
    "# B: sandal or shirts, but only 200"
   ]
  },
  {
   "cell_type": "code",
   "execution_count": 13,
   "metadata": {},
   "outputs": [],
   "source": [
    "keras.backend.clear_session()"
   ]
  },
  {
   "cell_type": "code",
   "execution_count": 14,
   "metadata": {},
   "outputs": [],
   "source": [
    "# TRANSFER LEARNING\n",
    "model_A = keras.models.Sequential()\n",
    "model_A.add(layers.Flatten(input_shape=[28, 28]))\n",
    "for n_hidden in (300, 100, 50, 50, 50):\n",
    "    model_A.add(layers.Dense(n_hidden, activation=\"selu\"))\n",
    "model_A.add(layers.Dense(8, activation=\"softmax\"))"
   ]
  },
  {
   "cell_type": "code",
   "execution_count": 15,
   "metadata": {},
   "outputs": [],
   "source": [
    "model_A.compile(\n",
    "    loss=\"sparse_categorical_crossentropy\",\n",
    "    optimizer=keras.optimizers.SGD(learning_rate=1e-3),\n",
    "    metrics=[\"accuracy\"]\n",
    ")"
   ]
  },
  {
   "cell_type": "code",
   "execution_count": 16,
   "metadata": {},
   "outputs": [
    {
     "name": "stdout",
     "output_type": "stream",
     "text": [
      "Epoch 1/40\n",
      "713/713 [==============================] - 2s 2ms/step - loss: 1.4101 - accuracy: 0.7961 - val_loss: 0.4481 - val_accuracy: 0.8487\n",
      "Epoch 2/40\n",
      "713/713 [==============================] - 1s 2ms/step - loss: 0.3871 - accuracy: 0.8680 - val_loss: 0.3831 - val_accuracy: 0.8754\n",
      "Epoch 3/40\n",
      "713/713 [==============================] - 1s 2ms/step - loss: 0.3317 - accuracy: 0.8846 - val_loss: 0.3427 - val_accuracy: 0.8733\n",
      "Epoch 4/40\n",
      "713/713 [==============================] - 1s 2ms/step - loss: 0.3017 - accuracy: 0.8942 - val_loss: 0.2987 - val_accuracy: 0.8975\n",
      "Epoch 5/40\n",
      "713/713 [==============================] - 1s 2ms/step - loss: 0.2796 - accuracy: 0.9016 - val_loss: 0.2758 - val_accuracy: 0.9067\n",
      "Epoch 6/40\n",
      "713/713 [==============================] - 1s 2ms/step - loss: 0.2656 - accuracy: 0.9056 - val_loss: 0.2631 - val_accuracy: 0.9058\n",
      "Epoch 7/40\n",
      "713/713 [==============================] - 1s 2ms/step - loss: 0.2514 - accuracy: 0.9116 - val_loss: 0.2691 - val_accuracy: 0.9071\n",
      "Epoch 8/40\n",
      "713/713 [==============================] - 1s 2ms/step - loss: 0.2414 - accuracy: 0.9144 - val_loss: 0.2568 - val_accuracy: 0.9129\n",
      "Epoch 9/40\n",
      "713/713 [==============================] - 1s 2ms/step - loss: 0.2333 - accuracy: 0.9171 - val_loss: 0.2715 - val_accuracy: 0.9054\n",
      "Epoch 10/40\n",
      "713/713 [==============================] - 1s 2ms/step - loss: 0.2258 - accuracy: 0.9189 - val_loss: 0.2714 - val_accuracy: 0.8983\n",
      "Epoch 11/40\n",
      "713/713 [==============================] - 1s 2ms/step - loss: 0.2177 - accuracy: 0.9218 - val_loss: 0.2589 - val_accuracy: 0.9071\n",
      "Epoch 12/40\n",
      "713/713 [==============================] - 1s 2ms/step - loss: 0.2122 - accuracy: 0.9242 - val_loss: 0.2378 - val_accuracy: 0.9121\n",
      "Epoch 13/40\n",
      "713/713 [==============================] - 1s 2ms/step - loss: 0.2059 - accuracy: 0.9270 - val_loss: 0.2473 - val_accuracy: 0.9079\n",
      "Epoch 14/40\n",
      "713/713 [==============================] - 1s 2ms/step - loss: 0.2007 - accuracy: 0.9279 - val_loss: 0.2413 - val_accuracy: 0.9125\n",
      "Epoch 15/40\n",
      "713/713 [==============================] - 1s 2ms/step - loss: 0.1962 - accuracy: 0.9298 - val_loss: 0.2380 - val_accuracy: 0.9187\n",
      "Epoch 16/40\n",
      "713/713 [==============================] - 1s 2ms/step - loss: 0.1913 - accuracy: 0.9324 - val_loss: 0.2412 - val_accuracy: 0.9162\n",
      "Epoch 17/40\n",
      "713/713 [==============================] - 2s 2ms/step - loss: 0.1872 - accuracy: 0.9340 - val_loss: 0.2403 - val_accuracy: 0.9167\n",
      "Epoch 18/40\n",
      "713/713 [==============================] - 1s 2ms/step - loss: 0.1824 - accuracy: 0.9356 - val_loss: 0.2436 - val_accuracy: 0.9087\n",
      "Epoch 19/40\n",
      "713/713 [==============================] - 2s 2ms/step - loss: 0.1800 - accuracy: 0.9366 - val_loss: 0.2798 - val_accuracy: 0.8996\n",
      "Epoch 20/40\n",
      "713/713 [==============================] - 2s 2ms/step - loss: 0.1749 - accuracy: 0.9379 - val_loss: 0.2379 - val_accuracy: 0.9162\n",
      "Epoch 21/40\n",
      "713/713 [==============================] - 2s 2ms/step - loss: 0.1726 - accuracy: 0.9392 - val_loss: 0.2303 - val_accuracy: 0.9171\n",
      "Epoch 22/40\n",
      "713/713 [==============================] - 1s 2ms/step - loss: 0.1693 - accuracy: 0.9409 - val_loss: 0.2349 - val_accuracy: 0.9162\n",
      "Epoch 23/40\n",
      "713/713 [==============================] - 1s 2ms/step - loss: 0.1656 - accuracy: 0.9414 - val_loss: 0.2280 - val_accuracy: 0.9229\n",
      "Epoch 24/40\n",
      "713/713 [==============================] - 1s 2ms/step - loss: 0.1628 - accuracy: 0.9425 - val_loss: 0.2327 - val_accuracy: 0.9179\n",
      "Epoch 25/40\n",
      "713/713 [==============================] - 1s 2ms/step - loss: 0.1601 - accuracy: 0.9440 - val_loss: 0.2578 - val_accuracy: 0.9112\n",
      "Epoch 26/40\n",
      "713/713 [==============================] - 1s 2ms/step - loss: 0.1569 - accuracy: 0.9441 - val_loss: 0.2357 - val_accuracy: 0.9142\n",
      "Epoch 27/40\n",
      "713/713 [==============================] - 2s 2ms/step - loss: 0.1543 - accuracy: 0.9451 - val_loss: 0.2276 - val_accuracy: 0.9208\n",
      "Epoch 28/40\n",
      "713/713 [==============================] - 2s 3ms/step - loss: 0.1520 - accuracy: 0.9468 - val_loss: 0.2325 - val_accuracy: 0.9200\n",
      "Epoch 29/40\n",
      "713/713 [==============================] - 2s 3ms/step - loss: 0.1493 - accuracy: 0.9476 - val_loss: 0.2522 - val_accuracy: 0.9158\n",
      "Epoch 30/40\n",
      "713/713 [==============================] - 2s 2ms/step - loss: 0.1468 - accuracy: 0.9482 - val_loss: 0.2480 - val_accuracy: 0.9133\n",
      "Epoch 31/40\n",
      "713/713 [==============================] - 2s 2ms/step - loss: 0.1433 - accuracy: 0.9499 - val_loss: 0.2302 - val_accuracy: 0.9200\n",
      "Epoch 32/40\n",
      "713/713 [==============================] - 2s 2ms/step - loss: 0.1419 - accuracy: 0.9507 - val_loss: 0.2275 - val_accuracy: 0.9192\n",
      "Epoch 33/40\n",
      "713/713 [==============================] - 2s 2ms/step - loss: 0.1399 - accuracy: 0.9512 - val_loss: 0.2360 - val_accuracy: 0.9204\n",
      "Epoch 34/40\n",
      "713/713 [==============================] - 2s 2ms/step - loss: 0.1378 - accuracy: 0.9514 - val_loss: 0.2465 - val_accuracy: 0.9125\n",
      "Epoch 35/40\n",
      "713/713 [==============================] - 2s 2ms/step - loss: 0.1356 - accuracy: 0.9522 - val_loss: 0.2447 - val_accuracy: 0.9200\n",
      "Epoch 36/40\n",
      "713/713 [==============================] - 2s 2ms/step - loss: 0.1334 - accuracy: 0.9534 - val_loss: 0.2705 - val_accuracy: 0.9050\n",
      "Epoch 37/40\n",
      "713/713 [==============================] - 2s 2ms/step - loss: 0.1312 - accuracy: 0.9536 - val_loss: 0.2309 - val_accuracy: 0.9204\n",
      "Epoch 38/40\n",
      "713/713 [==============================] - 2s 2ms/step - loss: 0.1296 - accuracy: 0.9541 - val_loss: 0.2477 - val_accuracy: 0.9121\n",
      "Epoch 39/40\n",
      "713/713 [==============================] - 2s 2ms/step - loss: 0.1273 - accuracy: 0.9552 - val_loss: 0.2342 - val_accuracy: 0.9233\n",
      "Epoch 40/40\n",
      "713/713 [==============================] - 2s 2ms/step - loss: 0.1249 - accuracy: 0.9555 - val_loss: 0.2414 - val_accuracy: 0.9167\n"
     ]
    }
   ],
   "source": [
    "history = model_A.fit(\n",
    "    X_train_A, y_train_A,\n",
    "    epochs=40,\n",
    "    validation_split=0.05,\n",
    "    callbacks=[keras.callbacks.EarlyStopping(patience=20)],\n",
    "    batch_size=64,\n",
    ")"
   ]
  },
  {
   "cell_type": "code",
   "execution_count": 17,
   "metadata": {},
   "outputs": [],
   "source": [
    "# binary classifier for sandal ans shirt\n",
    "model_B = keras.models.Sequential()\n",
    "model_B.add(keras.layers.Flatten(input_shape=[28, 28]))\n",
    "for n_hidden in (300, 100, 50, 50, 50):\n",
    "    model_B.add(keras.layers.Dense(n_hidden, activation=\"selu\"))\n",
    "model_B.add(keras.layers.Dense(1, activation=\"sigmoid\"))"
   ]
  },
  {
   "cell_type": "code",
   "execution_count": 18,
   "metadata": {},
   "outputs": [],
   "source": [
    "model_B.compile(loss=\"binary_crossentropy\",\n",
    "                optimizer=keras.optimizers.SGD(learning_rate=1e-3),\n",
    "                metrics=[\"accuracy\"])"
   ]
  },
  {
   "cell_type": "code",
   "execution_count": 22,
   "metadata": {},
   "outputs": [
    {
     "name": "stdout",
     "output_type": "stream",
     "text": [
      "Epoch 1/40\n",
      "3/3 [==============================] - 0s 15ms/step - loss: 0.0011 - accuracy: 1.0000 - val_loss: 3.3523e-04 - val_accuracy: 1.0000\n",
      "Epoch 2/40\n",
      "3/3 [==============================] - 0s 10ms/step - loss: 0.0011 - accuracy: 1.0000 - val_loss: 3.3265e-04 - val_accuracy: 1.0000\n",
      "Epoch 3/40\n",
      "3/3 [==============================] - 0s 10ms/step - loss: 0.0011 - accuracy: 1.0000 - val_loss: 3.3014e-04 - val_accuracy: 1.0000\n",
      "Epoch 4/40\n",
      "3/3 [==============================] - 0s 11ms/step - loss: 0.0011 - accuracy: 1.0000 - val_loss: 3.2765e-04 - val_accuracy: 1.0000\n",
      "Epoch 5/40\n",
      "3/3 [==============================] - 0s 10ms/step - loss: 0.0010 - accuracy: 1.0000 - val_loss: 3.2529e-04 - val_accuracy: 1.0000\n",
      "Epoch 6/40\n",
      "3/3 [==============================] - 0s 10ms/step - loss: 0.0010 - accuracy: 1.0000 - val_loss: 3.2302e-04 - val_accuracy: 1.0000\n",
      "Epoch 7/40\n",
      "3/3 [==============================] - 0s 10ms/step - loss: 9.9587e-04 - accuracy: 1.0000 - val_loss: 3.2082e-04 - val_accuracy: 1.0000\n",
      "Epoch 8/40\n",
      "3/3 [==============================] - 0s 11ms/step - loss: 9.7537e-04 - accuracy: 1.0000 - val_loss: 3.1866e-04 - val_accuracy: 1.0000\n",
      "Epoch 9/40\n",
      "3/3 [==============================] - 0s 9ms/step - loss: 9.5596e-04 - accuracy: 1.0000 - val_loss: 3.1656e-04 - val_accuracy: 1.0000\n",
      "Epoch 10/40\n",
      "3/3 [==============================] - 0s 11ms/step - loss: 9.3677e-04 - accuracy: 1.0000 - val_loss: 3.1435e-04 - val_accuracy: 1.0000\n",
      "Epoch 11/40\n",
      "3/3 [==============================] - 0s 10ms/step - loss: 9.1858e-04 - accuracy: 1.0000 - val_loss: 3.1221e-04 - val_accuracy: 1.0000\n",
      "Epoch 12/40\n",
      "3/3 [==============================] - 0s 10ms/step - loss: 9.0099e-04 - accuracy: 1.0000 - val_loss: 3.1012e-04 - val_accuracy: 1.0000\n",
      "Epoch 13/40\n",
      "3/3 [==============================] - 0s 10ms/step - loss: 8.8394e-04 - accuracy: 1.0000 - val_loss: 3.0809e-04 - val_accuracy: 1.0000\n",
      "Epoch 14/40\n",
      "3/3 [==============================] - 0s 9ms/step - loss: 8.6896e-04 - accuracy: 1.0000 - val_loss: 3.0617e-04 - val_accuracy: 1.0000\n",
      "Epoch 15/40\n",
      "3/3 [==============================] - 0s 10ms/step - loss: 8.5303e-04 - accuracy: 1.0000 - val_loss: 3.0426e-04 - val_accuracy: 1.0000\n",
      "Epoch 16/40\n",
      "3/3 [==============================] - 0s 9ms/step - loss: 8.3917e-04 - accuracy: 1.0000 - val_loss: 3.0238e-04 - val_accuracy: 1.0000\n",
      "Epoch 17/40\n",
      "3/3 [==============================] - 0s 11ms/step - loss: 8.2441e-04 - accuracy: 1.0000 - val_loss: 3.0055e-04 - val_accuracy: 1.0000\n",
      "Epoch 18/40\n",
      "3/3 [==============================] - 0s 9ms/step - loss: 8.0971e-04 - accuracy: 1.0000 - val_loss: 2.9874e-04 - val_accuracy: 1.0000\n",
      "Epoch 19/40\n",
      "3/3 [==============================] - 0s 10ms/step - loss: 7.9608e-04 - accuracy: 1.0000 - val_loss: 2.9698e-04 - val_accuracy: 1.0000\n",
      "Epoch 20/40\n",
      "3/3 [==============================] - 0s 9ms/step - loss: 7.8497e-04 - accuracy: 1.0000 - val_loss: 2.9526e-04 - val_accuracy: 1.0000\n",
      "Epoch 21/40\n",
      "3/3 [==============================] - 0s 10ms/step - loss: 7.7181e-04 - accuracy: 1.0000 - val_loss: 2.9355e-04 - val_accuracy: 1.0000\n",
      "Epoch 22/40\n",
      "3/3 [==============================] - 0s 10ms/step - loss: 7.5965e-04 - accuracy: 1.0000 - val_loss: 2.9187e-04 - val_accuracy: 1.0000\n",
      "Epoch 23/40\n",
      "3/3 [==============================] - 0s 9ms/step - loss: 7.4668e-04 - accuracy: 1.0000 - val_loss: 2.9020e-04 - val_accuracy: 1.0000\n",
      "Epoch 24/40\n",
      "3/3 [==============================] - 0s 10ms/step - loss: 7.3672e-04 - accuracy: 1.0000 - val_loss: 2.8853e-04 - val_accuracy: 1.0000\n",
      "Epoch 25/40\n",
      "3/3 [==============================] - 0s 10ms/step - loss: 7.2537e-04 - accuracy: 1.0000 - val_loss: 2.8691e-04 - val_accuracy: 1.0000\n",
      "Epoch 26/40\n",
      "3/3 [==============================] - 0s 9ms/step - loss: 7.1443e-04 - accuracy: 1.0000 - val_loss: 2.8536e-04 - val_accuracy: 1.0000\n",
      "Epoch 27/40\n",
      "3/3 [==============================] - 0s 9ms/step - loss: 7.0471e-04 - accuracy: 1.0000 - val_loss: 2.8385e-04 - val_accuracy: 1.0000\n",
      "Epoch 28/40\n",
      "3/3 [==============================] - 0s 9ms/step - loss: 6.9429e-04 - accuracy: 1.0000 - val_loss: 2.8241e-04 - val_accuracy: 1.0000\n",
      "Epoch 29/40\n",
      "3/3 [==============================] - 0s 9ms/step - loss: 6.8485e-04 - accuracy: 1.0000 - val_loss: 2.8099e-04 - val_accuracy: 1.0000\n",
      "Epoch 30/40\n",
      "3/3 [==============================] - 0s 9ms/step - loss: 6.7574e-04 - accuracy: 1.0000 - val_loss: 2.7962e-04 - val_accuracy: 1.0000\n",
      "Epoch 31/40\n",
      "3/3 [==============================] - 0s 9ms/step - loss: 6.6653e-04 - accuracy: 1.0000 - val_loss: 2.7823e-04 - val_accuracy: 1.0000\n",
      "Epoch 32/40\n",
      "3/3 [==============================] - 0s 8ms/step - loss: 6.5743e-04 - accuracy: 1.0000 - val_loss: 2.7687e-04 - val_accuracy: 1.0000\n",
      "Epoch 33/40\n",
      "3/3 [==============================] - 0s 10ms/step - loss: 6.4918e-04 - accuracy: 1.0000 - val_loss: 2.7551e-04 - val_accuracy: 1.0000\n",
      "Epoch 34/40\n",
      "3/3 [==============================] - 0s 9ms/step - loss: 6.4151e-04 - accuracy: 1.0000 - val_loss: 2.7420e-04 - val_accuracy: 1.0000\n",
      "Epoch 35/40\n",
      "3/3 [==============================] - 0s 9ms/step - loss: 6.3266e-04 - accuracy: 1.0000 - val_loss: 2.7291e-04 - val_accuracy: 1.0000\n",
      "Epoch 36/40\n",
      "3/3 [==============================] - 0s 10ms/step - loss: 6.2513e-04 - accuracy: 1.0000 - val_loss: 2.7167e-04 - val_accuracy: 1.0000\n",
      "Epoch 37/40\n",
      "3/3 [==============================] - 0s 9ms/step - loss: 6.1794e-04 - accuracy: 1.0000 - val_loss: 2.7035e-04 - val_accuracy: 1.0000\n",
      "Epoch 38/40\n",
      "3/3 [==============================] - 0s 9ms/step - loss: 6.1023e-04 - accuracy: 1.0000 - val_loss: 2.6907e-04 - val_accuracy: 1.0000\n",
      "Epoch 39/40\n",
      "3/3 [==============================] - 0s 9ms/step - loss: 6.0253e-04 - accuracy: 1.0000 - val_loss: 2.6781e-04 - val_accuracy: 1.0000\n",
      "Epoch 40/40\n",
      "3/3 [==============================] - 0s 9ms/step - loss: 5.9559e-04 - accuracy: 1.0000 - val_loss: 2.6656e-04 - val_accuracy: 1.0000\n"
     ]
    }
   ],
   "source": [
    "history = model_B.fit(\n",
    "    X_train_B, y_train_B,\n",
    "    epochs=40,\n",
    "    validation_split=0.05,\n",
    "    callbacks=[keras.callbacks.EarlyStopping(patience=20)],\n",
    "    batch_size=64,\n",
    ")"
   ]
  },
  {
   "cell_type": "code",
   "execution_count": 23,
   "metadata": {},
   "outputs": [
    {
     "name": "stdout",
     "output_type": "stream",
     "text": [
      "250/250 [==============================] - 0s 1ms/step - loss: 0.2873 - accuracy: 0.9109\n"
     ]
    },
    {
     "data": {
      "text/plain": [
       "[0.2873453199863434, 0.9108750224113464]"
      ]
     },
     "execution_count": 23,
     "metadata": {},
     "output_type": "execute_result"
    }
   ],
   "source": [
    "model_A.evaluate(X_test_A, y_test_A)"
   ]
  },
  {
   "cell_type": "code",
   "execution_count": 24,
   "metadata": {},
   "outputs": [
    {
     "name": "stdout",
     "output_type": "stream",
     "text": [
      "63/63 [==============================] - 0s 960us/step - loss: 0.2183 - accuracy: 0.9530\n"
     ]
    },
    {
     "data": {
      "text/plain": [
       "[0.21834918856620789, 0.953000009059906]"
      ]
     },
     "execution_count": 24,
     "metadata": {},
     "output_type": "execute_result"
    }
   ],
   "source": [
    "model_B.evaluate(X_test_B, y_test_B)"
   ]
  },
  {
   "cell_type": "code",
   "execution_count": 74,
   "metadata": {},
   "outputs": [],
   "source": [
    "model_A_clone = keras.models.clone_model(model_A)\n",
    "model_A_clone.set_weights(model_A.get_weights())\n",
    "model_B_on_A = keras.models.Sequential(model_A_clone.layers[:-1])\n",
    "model_B_on_A.add(layers.Dense(1, activation=\"sigmoid\"))"
   ]
  },
  {
   "cell_type": "code",
   "execution_count": 75,
   "metadata": {},
   "outputs": [],
   "source": [
    "# for layer in model_B_on_A.layers[:-2]:\n",
    "#     layer.trainable = False\n",
    "\n",
    "model_B_on_A.compile(\n",
    "        loss=\"binary_crossentropy\",\n",
    "        optimizer=keras.optimizers.SGD(learning_rate=1e-3),\n",
    "        metrics=[\"accuracy\"]\n",
    "    )"
   ]
  },
  {
   "cell_type": "code",
   "execution_count": 76,
   "metadata": {},
   "outputs": [
    {
     "name": "stdout",
     "output_type": "stream",
     "text": [
      "Epoch 1/40\n",
      "3/3 [==============================] - 0s 43ms/step - loss: 1.9776 - accuracy: 0.6263 - val_loss: 0.3183 - val_accuracy: 0.9000\n",
      "Epoch 2/40\n",
      "3/3 [==============================] - 0s 8ms/step - loss: 0.2278 - accuracy: 0.9000 - val_loss: 0.3750 - val_accuracy: 0.9000\n",
      "Epoch 3/40\n",
      "3/3 [==============================] - 0s 8ms/step - loss: 0.1291 - accuracy: 0.9579 - val_loss: 0.4032 - val_accuracy: 0.9000\n",
      "Epoch 4/40\n",
      "3/3 [==============================] - 0s 8ms/step - loss: 0.0897 - accuracy: 0.9842 - val_loss: 0.4275 - val_accuracy: 0.9000\n",
      "Epoch 5/40\n",
      "3/3 [==============================] - 0s 8ms/step - loss: 0.0683 - accuracy: 0.9842 - val_loss: 0.4473 - val_accuracy: 0.9000\n",
      "Epoch 6/40\n",
      "3/3 [==============================] - 0s 8ms/step - loss: 0.0533 - accuracy: 0.9947 - val_loss: 0.4629 - val_accuracy: 0.9000\n",
      "Epoch 7/40\n",
      "3/3 [==============================] - 0s 8ms/step - loss: 0.0416 - accuracy: 0.9947 - val_loss: 0.4766 - val_accuracy: 0.9000\n",
      "Epoch 8/40\n",
      "3/3 [==============================] - 0s 8ms/step - loss: 0.0344 - accuracy: 1.0000 - val_loss: 0.4875 - val_accuracy: 0.9000\n",
      "Epoch 9/40\n",
      "3/3 [==============================] - 0s 8ms/step - loss: 0.0293 - accuracy: 1.0000 - val_loss: 0.4981 - val_accuracy: 0.9000\n",
      "Epoch 10/40\n",
      "3/3 [==============================] - 0s 8ms/step - loss: 0.0259 - accuracy: 1.0000 - val_loss: 0.5083 - val_accuracy: 0.9000\n",
      "Epoch 11/40\n",
      "3/3 [==============================] - 0s 8ms/step - loss: 0.0227 - accuracy: 1.0000 - val_loss: 0.5159 - val_accuracy: 0.9000\n",
      "Epoch 12/40\n",
      "3/3 [==============================] - 0s 8ms/step - loss: 0.0206 - accuracy: 1.0000 - val_loss: 0.5234 - val_accuracy: 0.9000\n",
      "Epoch 13/40\n",
      "3/3 [==============================] - 0s 8ms/step - loss: 0.0187 - accuracy: 1.0000 - val_loss: 0.5295 - val_accuracy: 0.9000\n",
      "Epoch 14/40\n",
      "3/3 [==============================] - 0s 8ms/step - loss: 0.0172 - accuracy: 1.0000 - val_loss: 0.5364 - val_accuracy: 0.9000\n",
      "Epoch 15/40\n",
      "3/3 [==============================] - 0s 8ms/step - loss: 0.0159 - accuracy: 1.0000 - val_loss: 0.5427 - val_accuracy: 0.9000\n",
      "Epoch 16/40\n",
      "3/3 [==============================] - 0s 8ms/step - loss: 0.0147 - accuracy: 1.0000 - val_loss: 0.5482 - val_accuracy: 0.9000\n",
      "Epoch 17/40\n",
      "3/3 [==============================] - 0s 8ms/step - loss: 0.0138 - accuracy: 1.0000 - val_loss: 0.5538 - val_accuracy: 0.9000\n",
      "Epoch 18/40\n",
      "3/3 [==============================] - 0s 9ms/step - loss: 0.0128 - accuracy: 1.0000 - val_loss: 0.5585 - val_accuracy: 0.9000\n",
      "Epoch 19/40\n",
      "3/3 [==============================] - 0s 8ms/step - loss: 0.0121 - accuracy: 1.0000 - val_loss: 0.5631 - val_accuracy: 0.9000\n",
      "Epoch 20/40\n",
      "3/3 [==============================] - 0s 8ms/step - loss: 0.0113 - accuracy: 1.0000 - val_loss: 0.5673 - val_accuracy: 0.9000\n",
      "Epoch 21/40\n",
      "3/3 [==============================] - 0s 8ms/step - loss: 0.0107 - accuracy: 1.0000 - val_loss: 0.5716 - val_accuracy: 0.9000\n"
     ]
    }
   ],
   "source": [
    "history = model_B_on_A.fit(\n",
    "    X_train_B, y_train_B,\n",
    "    epochs=40,\n",
    "    validation_split=0.05,\n",
    "    callbacks=[keras.callbacks.EarlyStopping(patience=20)],\n",
    "    batch_size=64,\n",
    ")"
   ]
  },
  {
   "cell_type": "code",
   "execution_count": 77,
   "metadata": {},
   "outputs": [
    {
     "name": "stdout",
     "output_type": "stream",
     "text": [
      "63/63 [==============================] - 0s 1ms/step - loss: 0.1026 - accuracy: 0.9640\n"
     ]
    },
    {
     "data": {
      "text/plain": [
       "[0.10260029137134552, 0.9639999866485596]"
      ]
     },
     "execution_count": 77,
     "metadata": {},
     "output_type": "execute_result"
    }
   ],
   "source": [
    "model_B_on_A.evaluate(X_test_B, y_test_B)\n",
    "\n",
    "# in this case it haven't helped a lot"
   ]
  },
  {
   "cell_type": "code",
   "execution_count": 116,
   "metadata": {},
   "outputs": [],
   "source": [
    "keras.backend.clear_session()"
   ]
  },
  {
   "cell_type": "code",
   "execution_count": 117,
   "metadata": {},
   "outputs": [],
   "source": [
    "pixel_means = X_train.mean(axis=0, keepdims=True)\n",
    "pixel_stds = X_train.std(axis=0, keepdims=True)\n",
    "X_train_scaled = (X_train - pixel_means) / pixel_stds\n",
    "X_test_scaled = (X_test - pixel_means) / pixel_stds"
   ]
  },
  {
   "cell_type": "code",
   "execution_count": 118,
   "metadata": {},
   "outputs": [],
   "source": [
    "class OneCycleScheduler(keras.callbacks.Callback):\n",
    "    def __init__(self, iterations, max_rate, start_rate=None,\n",
    "                 last_iterations=None, last_rate=None):\n",
    "        self.iterations = iterations\n",
    "        self.max_rate = max_rate\n",
    "        self.start_rate = start_rate or max_rate / 10\n",
    "        self.last_iterations = last_iterations or iterations // 10 + 1\n",
    "        self.half_iteration = (iterations - self.last_iterations) // 2\n",
    "        self.last_rate = last_rate or self.start_rate / 1000\n",
    "        self.iteration = 0\n",
    "    def _interpolate(self, iter1, iter2, rate1, rate2):\n",
    "        return ((rate2 - rate1) * (self.iteration - iter1)\n",
    "                / (iter2 - iter1) + rate1)\n",
    "    def on_batch_begin(self, batch, logs):\n",
    "        if self.iteration < self.half_iteration:\n",
    "            rate = self._interpolate(0, self.half_iteration, self.start_rate, self.max_rate)\n",
    "        elif self.iteration < 2 * self.half_iteration:\n",
    "            rate = self._interpolate(self.half_iteration, 2 * self.half_iteration,\n",
    "                                     self.max_rate, self.start_rate)\n",
    "        else:\n",
    "            rate = self._interpolate(2 * self.half_iteration, self.iterations,\n",
    "                                     self.start_rate, self.last_rate)\n",
    "        self.iteration += 1\n",
    "        keras.backend.set_value(self.model.optimizer.learning_rate, rate)"
   ]
  },
  {
   "cell_type": "code",
   "execution_count": 119,
   "metadata": {},
   "outputs": [],
   "source": [
    "tf.random.set_seed(42)\n",
    "np.random.seed(42)\n",
    "\n",
    "model = keras.models.Sequential([\n",
    "    keras.layers.Flatten(input_shape=[28, 28]),\n",
    "    keras.layers.Dense(300, activation=\"selu\", kernel_initializer=\"lecun_normal\"),\n",
    "    keras.layers.Dense(100, activation=\"selu\", kernel_initializer=\"lecun_normal\"),\n",
    "    keras.layers.Dense(10, activation=\"softmax\")\n",
    "])\n",
    "model.compile(loss=\"sparse_categorical_crossentropy\",\n",
    "              optimizer=keras.optimizers.SGD(learning_rate=1e-3),\n",
    "              metrics=[\"accuracy\"])"
   ]
  },
  {
   "cell_type": "code",
   "execution_count": 120,
   "metadata": {},
   "outputs": [
    {
     "name": "stdout",
     "output_type": "stream",
     "text": [
      "Epoch 1/25\n",
      "844/844 [==============================] - 1s 2ms/step - loss: 0.5789 - accuracy: 0.7996 - val_loss: 0.4471 - val_accuracy: 0.8410\n",
      "Epoch 2/25\n",
      "844/844 [==============================] - 1s 2ms/step - loss: 0.4245 - accuracy: 0.8515 - val_loss: 0.4113 - val_accuracy: 0.8565\n",
      "Epoch 3/25\n",
      "844/844 [==============================] - 1s 1ms/step - loss: 0.3852 - accuracy: 0.8636 - val_loss: 0.4061 - val_accuracy: 0.8553\n",
      "Epoch 4/25\n",
      "844/844 [==============================] - 1s 1ms/step - loss: 0.3595 - accuracy: 0.8720 - val_loss: 0.3962 - val_accuracy: 0.8550\n",
      "Epoch 5/25\n",
      "844/844 [==============================] - 1s 1ms/step - loss: 0.3403 - accuracy: 0.8779 - val_loss: 0.3785 - val_accuracy: 0.8665\n",
      "Epoch 6/25\n",
      "844/844 [==============================] - 1s 1ms/step - loss: 0.3219 - accuracy: 0.8850 - val_loss: 0.3689 - val_accuracy: 0.8688\n",
      "Epoch 7/25\n",
      "844/844 [==============================] - 1s 2ms/step - loss: 0.3059 - accuracy: 0.8891 - val_loss: 0.3552 - val_accuracy: 0.8787\n",
      "Epoch 8/25\n",
      "844/844 [==============================] - 1s 2ms/step - loss: 0.2946 - accuracy: 0.8929 - val_loss: 0.3357 - val_accuracy: 0.8818\n",
      "Epoch 9/25\n",
      "844/844 [==============================] - 1s 2ms/step - loss: 0.2793 - accuracy: 0.8983 - val_loss: 0.3606 - val_accuracy: 0.8735\n",
      "Epoch 10/25\n",
      "844/844 [==============================] - 1s 2ms/step - loss: 0.2672 - accuracy: 0.9029 - val_loss: 0.3644 - val_accuracy: 0.8730\n",
      "Epoch 11/25\n",
      "844/844 [==============================] - 1s 2ms/step - loss: 0.2567 - accuracy: 0.9061 - val_loss: 0.3716 - val_accuracy: 0.8708\n",
      "Epoch 12/25\n",
      "844/844 [==============================] - 1s 2ms/step - loss: 0.2477 - accuracy: 0.9089 - val_loss: 0.3676 - val_accuracy: 0.8705\n",
      "Epoch 13/25\n",
      "844/844 [==============================] - 1s 1ms/step - loss: 0.2363 - accuracy: 0.9135 - val_loss: 0.3309 - val_accuracy: 0.8848\n",
      "Epoch 14/25\n",
      "844/844 [==============================] - 1s 1ms/step - loss: 0.2176 - accuracy: 0.9206 - val_loss: 0.3656 - val_accuracy: 0.8772\n",
      "Epoch 15/25\n",
      "844/844 [==============================] - 1s 2ms/step - loss: 0.2011 - accuracy: 0.9272 - val_loss: 0.3349 - val_accuracy: 0.8813\n",
      "Epoch 16/25\n",
      "844/844 [==============================] - 1s 1ms/step - loss: 0.1870 - accuracy: 0.9327 - val_loss: 0.3384 - val_accuracy: 0.8875\n",
      "Epoch 17/25\n",
      "844/844 [==============================] - 1s 1ms/step - loss: 0.1718 - accuracy: 0.9376 - val_loss: 0.3334 - val_accuracy: 0.8860\n",
      "Epoch 18/25\n",
      "844/844 [==============================] - 1s 1ms/step - loss: 0.1593 - accuracy: 0.9432 - val_loss: 0.3497 - val_accuracy: 0.8828\n",
      "Epoch 19/25\n",
      "844/844 [==============================] - 1s 1ms/step - loss: 0.1483 - accuracy: 0.9471 - val_loss: 0.3683 - val_accuracy: 0.8818\n",
      "Epoch 20/25\n",
      "844/844 [==============================] - 1s 2ms/step - loss: 0.1380 - accuracy: 0.9513 - val_loss: 0.3401 - val_accuracy: 0.8923\n",
      "Epoch 21/25\n",
      "844/844 [==============================] - 1s 2ms/step - loss: 0.1278 - accuracy: 0.9557 - val_loss: 0.3380 - val_accuracy: 0.8890\n",
      "Epoch 22/25\n",
      "844/844 [==============================] - 1s 1ms/step - loss: 0.1189 - accuracy: 0.9596 - val_loss: 0.3455 - val_accuracy: 0.8907\n",
      "Epoch 23/25\n",
      "844/844 [==============================] - 1s 2ms/step - loss: 0.1114 - accuracy: 0.9628 - val_loss: 0.3552 - val_accuracy: 0.8860\n",
      "Epoch 24/25\n",
      "844/844 [==============================] - 1s 2ms/step - loss: 0.1044 - accuracy: 0.9663 - val_loss: 0.3500 - val_accuracy: 0.8862\n",
      "Epoch 25/25\n",
      "844/844 [==============================] - 1s 2ms/step - loss: 0.0986 - accuracy: 0.9694 - val_loss: 0.3474 - val_accuracy: 0.8880\n"
     ]
    }
   ],
   "source": [
    "import math\n",
    "\n",
    "n_epochs = 25\n",
    "batch_size = 64\n",
    "\n",
    "onecycle = OneCycleScheduler(math.ceil(len(X_train) / batch_size) * n_epochs, max_rate=0.05)\n",
    "history = model.fit(\n",
    "    X_train_scaled, y_train,\n",
    "    epochs=n_epochs,\n",
    "    batch_size=batch_size,\n",
    "    validation_split=0.1,\n",
    "    callbacks=[onecycle, keras.callbacks.EarlyStopping(patience=30)]\n",
    "    )"
   ]
  },
  {
   "cell_type": "code",
   "execution_count": 121,
   "metadata": {},
   "outputs": [
    {
     "name": "stdout",
     "output_type": "stream",
     "text": [
      "313/313 [==============================] - 0s 813us/step - loss: 0.3645 - accuracy: 0.8896\n"
     ]
    },
    {
     "data": {
      "text/plain": [
       "[0.36447378993034363, 0.8895999789237976]"
      ]
     },
     "execution_count": 121,
     "metadata": {},
     "output_type": "execute_result"
    }
   ],
   "source": [
    "model.evaluate(X_test_scaled, y_test)"
   ]
  },
  {
   "cell_type": "code",
   "execution_count": 127,
   "metadata": {},
   "outputs": [],
   "source": [
    "# instead of repeting the same argumets multiple times use partia\n",
    "\n",
    "# keras.regularizers.l1(0.01)\n",
    "# keras.regularizers.l2(0.1)\n",
    "# keras.regularizers.l1_l2(0.01, 0.1)\n",
    "\n",
    "from functools import partial\n",
    "\n",
    "RegularizedDense = partial(\n",
    "    layers.Dense,\n",
    "    activation=\"elu\",\n",
    "    kernel_initializer=\"he_normal\",\n",
    "    kernel_regularizer=keras.regularizers.l2(0.01)\n",
    ")\n",
    "\n",
    "model = keras.models.Sequential([\n",
    "    keras.layers.Flatten(input_shape=[28, 28]),\n",
    "    RegularizedDense(300),\n",
    "    RegularizedDense(100),\n",
    "    RegularizedDense(50),\n",
    "    RegularizedDense(10, activation=\"softmax\", kernel_initializer=\"glorot_uniform\")\n",
    "])"
   ]
  },
  {
   "cell_type": "code",
   "execution_count": 128,
   "metadata": {},
   "outputs": [],
   "source": [
    "model.compile(loss=\"sparse_categorical_crossentropy\",\n",
    "              optimizer=\"nadam\",\n",
    "              metrics=[\"accuracy\"])"
   ]
  },
  {
   "cell_type": "code",
   "execution_count": 129,
   "metadata": {},
   "outputs": [
    {
     "name": "stdout",
     "output_type": "stream",
     "text": [
      "Epoch 1/25\n",
      "844/844 [==============================] - 4s 4ms/step - loss: 2.5051 - accuracy: 0.8198 - val_loss: 0.8509 - val_accuracy: 0.8243\n",
      "Epoch 2/25\n",
      "844/844 [==============================] - 4s 4ms/step - loss: 0.8214 - accuracy: 0.8237 - val_loss: 0.7799 - val_accuracy: 0.8282\n",
      "Epoch 3/25\n",
      "844/844 [==============================] - 3s 4ms/step - loss: 0.7795 - accuracy: 0.8294 - val_loss: 0.7844 - val_accuracy: 0.8155\n",
      "Epoch 4/25\n",
      "844/844 [==============================] - 4s 4ms/step - loss: 0.7580 - accuracy: 0.8336 - val_loss: 0.7514 - val_accuracy: 0.8338\n",
      "Epoch 5/25\n",
      "844/844 [==============================] - 3s 4ms/step - loss: 0.7476 - accuracy: 0.8376 - val_loss: 0.7423 - val_accuracy: 0.8363\n",
      "Epoch 6/25\n",
      "844/844 [==============================] - 4s 5ms/step - loss: 0.7408 - accuracy: 0.8397 - val_loss: 0.7387 - val_accuracy: 0.8315\n",
      "Epoch 7/25\n",
      "844/844 [==============================] - 5s 5ms/step - loss: 0.7360 - accuracy: 0.8404 - val_loss: 0.7240 - val_accuracy: 0.8410\n",
      "Epoch 8/25\n",
      "844/844 [==============================] - 3s 4ms/step - loss: 0.7337 - accuracy: 0.8427 - val_loss: 0.7210 - val_accuracy: 0.8438\n",
      "Epoch 9/25\n",
      "844/844 [==============================] - 4s 5ms/step - loss: 0.7312 - accuracy: 0.8439 - val_loss: 0.7412 - val_accuracy: 0.8393\n",
      "Epoch 10/25\n",
      "844/844 [==============================] - 4s 4ms/step - loss: 0.7297 - accuracy: 0.8434 - val_loss: 0.7265 - val_accuracy: 0.8373\n",
      "Epoch 11/25\n",
      "844/844 [==============================] - 4s 5ms/step - loss: 0.7281 - accuracy: 0.8438 - val_loss: 0.7322 - val_accuracy: 0.8427\n",
      "Epoch 12/25\n",
      "844/844 [==============================] - 4s 4ms/step - loss: 0.7260 - accuracy: 0.8440 - val_loss: 0.7294 - val_accuracy: 0.8332\n",
      "Epoch 13/25\n",
      "844/844 [==============================] - 3s 4ms/step - loss: 0.7250 - accuracy: 0.8440 - val_loss: 0.7329 - val_accuracy: 0.8435\n",
      "Epoch 14/25\n",
      "844/844 [==============================] - 4s 4ms/step - loss: 0.7232 - accuracy: 0.8454 - val_loss: 0.7457 - val_accuracy: 0.8363\n",
      "Epoch 15/25\n",
      "844/844 [==============================] - 4s 4ms/step - loss: 0.7227 - accuracy: 0.8456 - val_loss: 0.7206 - val_accuracy: 0.8457\n",
      "Epoch 16/25\n",
      "844/844 [==============================] - 3s 4ms/step - loss: 0.7214 - accuracy: 0.8454 - val_loss: 0.7168 - val_accuracy: 0.8438\n",
      "Epoch 17/25\n",
      "844/844 [==============================] - 3s 4ms/step - loss: 0.7203 - accuracy: 0.8456 - val_loss: 0.7117 - val_accuracy: 0.8463\n",
      "Epoch 18/25\n",
      "844/844 [==============================] - 4s 4ms/step - loss: 0.7188 - accuracy: 0.8460 - val_loss: 0.7238 - val_accuracy: 0.8388\n",
      "Epoch 19/25\n",
      "844/844 [==============================] - 4s 4ms/step - loss: 0.7202 - accuracy: 0.8458 - val_loss: 0.7189 - val_accuracy: 0.8432\n",
      "Epoch 20/25\n",
      "844/844 [==============================] - 3s 4ms/step - loss: 0.7169 - accuracy: 0.8458 - val_loss: 0.7154 - val_accuracy: 0.8443\n",
      "Epoch 21/25\n",
      "844/844 [==============================] - 4s 4ms/step - loss: 0.7188 - accuracy: 0.8461 - val_loss: 0.7335 - val_accuracy: 0.8418\n",
      "Epoch 22/25\n",
      "844/844 [==============================] - 4s 5ms/step - loss: 0.7182 - accuracy: 0.8447 - val_loss: 0.7182 - val_accuracy: 0.8412\n",
      "Epoch 23/25\n",
      "844/844 [==============================] - 4s 4ms/step - loss: 0.7173 - accuracy: 0.8465 - val_loss: 0.7231 - val_accuracy: 0.8442\n",
      "Epoch 24/25\n",
      "844/844 [==============================] - 4s 4ms/step - loss: 0.7180 - accuracy: 0.8461 - val_loss: 0.7145 - val_accuracy: 0.8462\n",
      "Epoch 25/25\n",
      "844/844 [==============================] - 4s 4ms/step - loss: 0.7153 - accuracy: 0.8457 - val_loss: 0.7306 - val_accuracy: 0.8308\n"
     ]
    }
   ],
   "source": [
    "n_epochs = 25\n",
    "batch_size = 64\n",
    "\n",
    "history = model.fit(\n",
    "    X_train_scaled, y_train,\n",
    "    epochs=n_epochs,\n",
    "    batch_size=batch_size,\n",
    "    validation_split=0.1,\n",
    "    )"
   ]
  },
  {
   "cell_type": "code",
   "execution_count": 130,
   "metadata": {},
   "outputs": [],
   "source": [
    "# instead of repeting the same argumets multiple times use partia\n",
    "\n",
    "# keras.regularizers.l1(0.01)\n",
    "# keras.regularizers.l2(0.1)\n",
    "# keras.regularizers.l1_l2(0.01, 0.1)\n",
    "\n",
    "from functools import partial\n",
    "\n",
    "RegularizedDense = partial(\n",
    "    layers.Dense,\n",
    "    activation=\"elu\",\n",
    "    kernel_initializer=\"he_normal\",\n",
    "    kernel_regularizer=keras.regularizers.l2(0.01)\n",
    ")\n",
    "\n",
    "model = keras.models.Sequential([\n",
    "    keras.layers.Flatten(input_shape=[28, 28]),\n",
    "    layers.Dropout(rate=0.2),\n",
    "    RegularizedDense(300),\n",
    "    layers.Dropout(rate=0.2),\n",
    "    RegularizedDense(100),\n",
    "    layers.Dropout(rate=0.2),\n",
    "    RegularizedDense(50),\n",
    "    layers.Dropout(rate=0.2),\n",
    "    RegularizedDense(10, activation=\"softmax\", kernel_initializer=\"glorot_uniform\")\n",
    "])"
   ]
  },
  {
   "cell_type": "code",
   "execution_count": 131,
   "metadata": {},
   "outputs": [],
   "source": [
    "model.compile(loss=\"sparse_categorical_crossentropy\",\n",
    "              optimizer=\"nadam\",\n",
    "              metrics=[\"accuracy\"])"
   ]
  },
  {
   "cell_type": "code",
   "execution_count": 132,
   "metadata": {},
   "outputs": [
    {
     "name": "stdout",
     "output_type": "stream",
     "text": [
      "Epoch 1/25\n",
      "844/844 [==============================] - 5s 4ms/step - loss: 3.2074 - accuracy: 0.7827 - val_loss: 0.9268 - val_accuracy: 0.8247\n",
      "Epoch 2/25\n",
      "844/844 [==============================] - 4s 5ms/step - loss: 0.9161 - accuracy: 0.8040 - val_loss: 0.8285 - val_accuracy: 0.8195\n",
      "Epoch 3/25\n",
      "844/844 [==============================] - 4s 4ms/step - loss: 0.8817 - accuracy: 0.8034 - val_loss: 0.8365 - val_accuracy: 0.8120\n",
      "Epoch 4/25\n",
      "844/844 [==============================] - 4s 4ms/step - loss: 0.8696 - accuracy: 0.8039 - val_loss: 0.8076 - val_accuracy: 0.8217\n",
      "Epoch 5/25\n",
      "844/844 [==============================] - 4s 4ms/step - loss: 0.8624 - accuracy: 0.8036 - val_loss: 0.8071 - val_accuracy: 0.8160\n",
      "Epoch 6/25\n",
      "844/844 [==============================] - 4s 4ms/step - loss: 0.8539 - accuracy: 0.8061 - val_loss: 0.7991 - val_accuracy: 0.8143\n",
      "Epoch 7/25\n",
      "844/844 [==============================] - 4s 4ms/step - loss: 0.8496 - accuracy: 0.8074 - val_loss: 0.7774 - val_accuracy: 0.8272\n",
      "Epoch 8/25\n",
      "844/844 [==============================] - 4s 4ms/step - loss: 0.8467 - accuracy: 0.8057 - val_loss: 0.7858 - val_accuracy: 0.8260\n",
      "Epoch 9/25\n",
      "844/844 [==============================] - 4s 4ms/step - loss: 0.8442 - accuracy: 0.8075 - val_loss: 0.7987 - val_accuracy: 0.8237\n",
      "Epoch 10/25\n",
      "844/844 [==============================] - 4s 4ms/step - loss: 0.8440 - accuracy: 0.8080 - val_loss: 0.7918 - val_accuracy: 0.8212\n",
      "Epoch 11/25\n",
      "844/844 [==============================] - 4s 5ms/step - loss: 0.8429 - accuracy: 0.8100 - val_loss: 0.7852 - val_accuracy: 0.8273\n",
      "Epoch 12/25\n",
      "844/844 [==============================] - 4s 4ms/step - loss: 0.8436 - accuracy: 0.8096 - val_loss: 0.7822 - val_accuracy: 0.8262\n",
      "Epoch 13/25\n",
      "844/844 [==============================] - 4s 5ms/step - loss: 0.8417 - accuracy: 0.8101 - val_loss: 0.8027 - val_accuracy: 0.8248\n",
      "Epoch 14/25\n",
      "844/844 [==============================] - 4s 5ms/step - loss: 0.8431 - accuracy: 0.8085 - val_loss: 0.8086 - val_accuracy: 0.8138\n",
      "Epoch 15/25\n",
      "844/844 [==============================] - 4s 5ms/step - loss: 0.8402 - accuracy: 0.8095 - val_loss: 0.7882 - val_accuracy: 0.8250\n",
      "Epoch 16/25\n",
      "844/844 [==============================] - 4s 4ms/step - loss: 0.8416 - accuracy: 0.8070 - val_loss: 0.7792 - val_accuracy: 0.8248\n",
      "Epoch 17/25\n",
      "844/844 [==============================] - 4s 4ms/step - loss: 0.8385 - accuracy: 0.8095 - val_loss: 0.7731 - val_accuracy: 0.8347\n",
      "Epoch 18/25\n",
      "844/844 [==============================] - 4s 4ms/step - loss: 0.8378 - accuracy: 0.8098 - val_loss: 0.7906 - val_accuracy: 0.8183\n",
      "Epoch 19/25\n",
      "844/844 [==============================] - 4s 4ms/step - loss: 0.8425 - accuracy: 0.8083 - val_loss: 0.7893 - val_accuracy: 0.8238\n",
      "Epoch 20/25\n",
      "844/844 [==============================] - 4s 4ms/step - loss: 0.8388 - accuracy: 0.8082 - val_loss: 0.7793 - val_accuracy: 0.8262\n",
      "Epoch 21/25\n",
      "844/844 [==============================] - 4s 5ms/step - loss: 0.8383 - accuracy: 0.8093 - val_loss: 0.7899 - val_accuracy: 0.8252\n",
      "Epoch 22/25\n",
      "844/844 [==============================] - 4s 4ms/step - loss: 0.8395 - accuracy: 0.8090 - val_loss: 0.7895 - val_accuracy: 0.8257\n",
      "Epoch 23/25\n",
      "844/844 [==============================] - 4s 4ms/step - loss: 0.8391 - accuracy: 0.8099 - val_loss: 0.7801 - val_accuracy: 0.8288\n",
      "Epoch 24/25\n",
      "844/844 [==============================] - 4s 4ms/step - loss: 0.8390 - accuracy: 0.8096 - val_loss: 0.7978 - val_accuracy: 0.8192\n",
      "Epoch 25/25\n",
      "844/844 [==============================] - 4s 4ms/step - loss: 0.8387 - accuracy: 0.8097 - val_loss: 0.8045 - val_accuracy: 0.8102\n"
     ]
    }
   ],
   "source": [
    "n_epochs = 25\n",
    "batch_size = 64\n",
    "\n",
    "history = model.fit(\n",
    "    X_train_scaled, y_train,\n",
    "    epochs=n_epochs,\n",
    "    batch_size=batch_size,\n",
    "    validation_split=0.1,\n",
    "    )"
   ]
  },
  {
   "cell_type": "code",
   "execution_count": 133,
   "metadata": {},
   "outputs": [
    {
     "name": "stdout",
     "output_type": "stream",
     "text": [
      "313/313 [==============================] - 0s 1ms/step - loss: 0.8234 - accuracy: 0.8089\n"
     ]
    },
    {
     "data": {
      "text/plain": [
       "[0.82342529296875, 0.808899998664856]"
      ]
     },
     "execution_count": 133,
     "metadata": {},
     "output_type": "execute_result"
    }
   ],
   "source": [
    "model.evaluate(X_test_scaled, y_test)"
   ]
  },
  {
   "cell_type": "code",
   "execution_count": 134,
   "metadata": {},
   "outputs": [],
   "source": [
    "class MCDropout(keras.layers.Dropout):\n",
    "    def call(self, inputs):\n",
    "        return super().call(inputs, training=True)\n",
    "\n",
    "class MCAlphaDropout(keras.layers.AlphaDropout):\n",
    "    def call(self, inputs):\n",
    "        return super().call(inputs, training=True)"
   ]
  },
  {
   "cell_type": "code",
   "execution_count": 142,
   "metadata": {},
   "outputs": [],
   "source": [
    "# replacing Dropout with MCdropout\n",
    "\n",
    "mc_model = keras.models.Sequential([\n",
    "    MCAlphaDropout(layer.rate) if isinstance(layer, keras.layers.Dropout) else layer\n",
    "    for layer in model.layers\n",
    "])"
   ]
  },
  {
   "cell_type": "code",
   "execution_count": 143,
   "metadata": {},
   "outputs": [],
   "source": [
    "mc_model.compile(loss=\"sparse_categorical_crossentropy\",\n",
    "              optimizer=\"nadam\",\n",
    "              metrics=[\"accuracy\"])"
   ]
  },
  {
   "cell_type": "code",
   "execution_count": 144,
   "metadata": {},
   "outputs": [],
   "source": [
    "mc_model.set_weights(model.get_weights())"
   ]
  },
  {
   "cell_type": "code",
   "execution_count": 146,
   "metadata": {},
   "outputs": [
    {
     "data": {
      "text/plain": [
       "array([[0.07, 0.03, 0.08, 0.03, 0.06, 0.24, 0.05, 0.11, 0.18, 0.14]],\n",
       "      dtype=float32)"
      ]
     },
     "execution_count": 146,
     "metadata": {},
     "output_type": "execute_result"
    }
   ],
   "source": [
    "# based on 100 samples - 100 different predictions\n",
    "np.round(np.mean([mc_model.predict(X_test_scaled[:1]) for sample in range(100)], axis=0), 2)"
   ]
  },
  {
   "cell_type": "code",
   "execution_count": 148,
   "metadata": {},
   "outputs": [
    {
     "name": "stdout",
     "output_type": "stream",
     "text": [
      "Epoch 1/2\n",
      "1688/1688 [==============================] - 5s 3ms/step - loss: 0.4728 - accuracy: 0.8360 - val_loss: 0.3956 - val_accuracy: 0.8553\n",
      "Epoch 2/2\n",
      "1688/1688 [==============================] - 6s 3ms/step - loss: 0.3542 - accuracy: 0.8693 - val_loss: 0.3770 - val_accuracy: 0.8668\n"
     ]
    }
   ],
   "source": [
    "MaxNormDense = partial(\n",
    "    layers.Dense,\n",
    "    activation=\"selu\",\n",
    "    kernel_initializer=\"lecun_normal\",\n",
    "    kernel_constraint=keras.constraints.max_norm(1.)\n",
    ")\n",
    "\n",
    "model = keras.models.Sequential([\n",
    "    keras.layers.Flatten(input_shape=[28, 28]),\n",
    "    MaxNormDense(300),\n",
    "    MaxNormDense(100),\n",
    "    keras.layers.Dense(10, activation=\"softmax\")\n",
    "])\n",
    "\n",
    "model.compile(loss=\"sparse_categorical_crossentropy\", optimizer=\"nadam\", metrics=[\"accuracy\"])\n",
    "n_epochs = 2\n",
    "history = model.fit(X_train_scaled, y_train, epochs=n_epochs, validation_split=0.1)"
   ]
  }
 ],
 "metadata": {
  "interpreter": {
   "hash": "6b3a14f78b9ba0d8008e17f9e541dfabfb24feb0644cc9472bfabe3e92add622"
  },
  "kernelspec": {
   "display_name": "Python 3.10.4 ('ML_metal')",
   "language": "python",
   "name": "python3"
  },
  "language_info": {
   "codemirror_mode": {
    "name": "ipython",
    "version": 3
   },
   "file_extension": ".py",
   "mimetype": "text/x-python",
   "name": "python",
   "nbconvert_exporter": "python",
   "pygments_lexer": "ipython3",
   "version": "3.10.4"
  },
  "orig_nbformat": 4
 },
 "nbformat": 4,
 "nbformat_minor": 2
}
