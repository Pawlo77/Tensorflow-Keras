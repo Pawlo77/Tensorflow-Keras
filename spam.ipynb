{
 "cells": [
  {
   "cell_type": "code",
   "execution_count": 130,
   "metadata": {},
   "outputs": [],
   "source": [
    "import os\n",
    "import tarfile\n",
    "import urllib.request\n",
    "\n",
    "DOWNLOAD_ROOT = \"http://spamassassin.apache.org/old/publiccorpus/\"\n",
    "HAM_URL = DOWNLOAD_ROOT + \"20030228_easy_ham.tar.bz2\"\n",
    "SPAM_URL = DOWNLOAD_ROOT + \"20030228_spam.tar.bz2\"\n",
    "SPAM_PATH = os.path.join(\"downloads\", \"datasets\", \"spam\")\n",
    "\n",
    "def fetch_spam_data(ham_url=HAM_URL, spam_url=SPAM_URL, spam_path=SPAM_PATH):\n",
    "    if not os.path.isdir(spam_path):\n",
    "        os.makedirs(spam_path)\n",
    "    for filename, url in ((\"ham.tar.bz2\", ham_url), (\"spam.tar.bz2\", spam_url)):\n",
    "        path = os.path.join(spam_path, filename)\n",
    "        if not os.path.isfile(path):\n",
    "            urllib.request.urlretrieve(url, path)\n",
    "        tar_bz2_file = tarfile.open(path)\n",
    "        tar_bz2_file.extractall(path=spam_path)\n",
    "        tar_bz2_file.close()"
   ]
  },
  {
   "cell_type": "code",
   "execution_count": 131,
   "metadata": {},
   "outputs": [],
   "source": [
    "fetch_spam_data()"
   ]
  },
  {
   "cell_type": "code",
   "execution_count": 132,
   "metadata": {},
   "outputs": [],
   "source": [
    "SPAM_ROOT = os.path.join(SPAM_PATH, \"spam\")\n",
    "HAM_ROOT = os.path.join(SPAM_PATH, \"easy_ham\")\n",
    "\n",
    "spam_emails = [filename for filename in os.listdir(SPAM_ROOT) if filename != \"cmds\"]\n",
    "ham_emails = [filename for filename in os.listdir(HAM_ROOT) if filename != \"cmds\"]"
   ]
  },
  {
   "cell_type": "code",
   "execution_count": 133,
   "metadata": {},
   "outputs": [
    {
     "name": "stdout",
     "output_type": "stream",
     "text": [
      "500 2500\n"
     ]
    }
   ],
   "source": [
    "print(len(spam_emails), len(ham_emails))"
   ]
  },
  {
   "cell_type": "code",
   "execution_count": 134,
   "metadata": {},
   "outputs": [],
   "source": [
    "import email\n",
    "import email.policy\n",
    "\n",
    "def load_email(is_spam, filename, path=SPAM_PATH):\n",
    "    dir = \"spam\" if is_spam else \"easy_ham\"\n",
    "    with open(os.path.join(path, dir, filename), \"rb\") as f:\n",
    "        return email.parser.BytesParser(policy=email.policy.default).parse(f)"
   ]
  },
  {
   "cell_type": "code",
   "execution_count": 135,
   "metadata": {},
   "outputs": [],
   "source": [
    "ham_emails = [load_email(False, name) for name in ham_emails]\n",
    "spam_emails = [load_email(True, name) for name in spam_emails]"
   ]
  },
  {
   "cell_type": "code",
   "execution_count": 136,
   "metadata": {},
   "outputs": [
    {
     "name": "stdout",
     "output_type": "stream",
     "text": [
      "Dear Homeowner,\n",
      " \n",
      "Interest Rates are at their lowest point in 40 years!\n",
      "\n",
      "We help you find the best rate for your situation by\n",
      "matching your needs with hundreds of lenders!\n",
      "\n",
      "Home Improvement, Refinance, Second Mortgage,\n",
      "Home Equity Loans, and More! Even with less than\n",
      "perfect credit!\n",
      "\n",
      "This service is 100% FREE to home owners and new\n",
      "home buyers without any obligation. \n",
      "\n",
      "Just fill out a quick, simple form and jump-start\n",
      "your future plans today!\n",
      "\n",
      "\n",
      "Visit http://61.145.116.186/user0201/index.asp?Afft=QM10\n",
      "\n",
      "\n",
      "\n",
      "\n",
      "\n",
      "\n",
      "To unsubscribe, please visit:\n",
      "\n",
      "http://61.145.116.186/light/watch.asp\n"
     ]
    }
   ],
   "source": [
    "print(spam_emails[0].get_content().strip())"
   ]
  },
  {
   "cell_type": "code",
   "execution_count": 137,
   "metadata": {},
   "outputs": [],
   "source": [
    "def get_email_structure(email):\n",
    "    if isinstance(email, str):\n",
    "        return email\n",
    "    payload = email.get_payload()\n",
    "    if isinstance(payload, list):\n",
    "        return f\"multipart({' ,'.join([get_email_structure(sub_email) for sub_email in payload])}\"\n",
    "    else:\n",
    "        return email.get_content_type()"
   ]
  },
  {
   "cell_type": "code",
   "execution_count": 138,
   "metadata": {},
   "outputs": [],
   "source": [
    "from collections import Counter\n",
    "\n",
    "def struct_counter(emails):\n",
    "    structs = Counter()\n",
    "    for email in emails:\n",
    "        struct = get_email_structure(email)\n",
    "        structs[struct] += 1\n",
    "    return structs"
   ]
  },
  {
   "cell_type": "code",
   "execution_count": 139,
   "metadata": {},
   "outputs": [
    {
     "data": {
      "text/plain": [
       "[('text/plain', 2408),\n",
       " ('multipart(text/plain ,application/pgp-signature', 66),\n",
       " ('multipart(text/plain ,text/html', 8),\n",
       " ('multipart(text/plain ,text/plain', 4),\n",
       " ('multipart(text/plain', 3),\n",
       " ('multipart(text/plain ,application/octet-stream', 2),\n",
       " ('multipart(text/plain ,multipart(text/plain ,text/plain ,text/rfc822-headers',\n",
       "  1),\n",
       " ('multipart(text/plain ,multipart(text/plain ,text/plain ,multipart(multipart(text/plain ,application/x-pkcs7-signature',\n",
       "  1),\n",
       " ('multipart(text/plain ,application/x-java-applet', 1),\n",
       " ('multipart(text/plain ,text/enriched', 1),\n",
       " ('multipart(multipart(text/plain ,text/plain ,text/plain ,application/pgp-signature',\n",
       "  1),\n",
       " ('multipart(text/plain ,multipart(text/plain', 1),\n",
       " ('multipart(text/plain ,application/ms-tnef ,text/plain', 1),\n",
       " ('multipart(text/plain ,video/mng', 1),\n",
       " ('multipart(text/plain ,application/x-pkcs7-signature', 1)]"
      ]
     },
     "execution_count": 139,
     "metadata": {},
     "output_type": "execute_result"
    }
   ],
   "source": [
    "struct_counter(ham_emails).most_common()"
   ]
  },
  {
   "cell_type": "code",
   "execution_count": 140,
   "metadata": {},
   "outputs": [
    {
     "data": {
      "text/plain": [
       "[('text/plain', 218),\n",
       " ('text/html', 183),\n",
       " ('multipart(text/plain ,text/html', 45),\n",
       " ('multipart(text/html', 20),\n",
       " ('multipart(text/plain', 19),\n",
       " ('multipart(multipart(text/html', 5),\n",
       " ('multipart(text/plain ,image/jpeg', 3),\n",
       " ('multipart(text/html ,application/octet-stream', 2),\n",
       " ('multipart(multipart(text/plain ,text/html ,image/gif', 1),\n",
       " ('multipart/alternative', 1),\n",
       " ('multipart(text/plain ,application/octet-stream', 1),\n",
       " ('multipart(multipart(text/html ,application/octet-stream ,image/jpeg', 1),\n",
       " ('multipart(text/html ,text/plain', 1)]"
      ]
     },
     "execution_count": 140,
     "metadata": {},
     "output_type": "execute_result"
    }
   ],
   "source": [
    "struct_counter(spam_emails).most_common()"
   ]
  },
  {
   "cell_type": "code",
   "execution_count": 141,
   "metadata": {},
   "outputs": [
    {
     "name": "stdout",
     "output_type": "stream",
     "text": [
      "Return-Path\t:\t<pamela4701@eudoramail.com>\n",
      "Delivered-To\t:\tzzzz@localhost.spamassassin.taint.org\n",
      "Received\t:\tfrom localhost (jalapeno [127.0.0.1])\tby zzzzason.org (Postfix) with ESMTP id 5D14216F17\tfor <zzzz@localhost>; Mon,  9 Sep 2002 10:49:04 +0100 (IST)\n",
      "Received\t:\tfrom jalapeno [127.0.0.1]\tby localhost with IMAP (fetchmail-5.9.0)\tfor zzzz@localhost (single-drop); Mon, 09 Sep 2002 10:49:04 +0100 (IST)\n",
      "Received\t:\tfrom smtp-ft1.fr.colt.net (smtp-ft1.fr.colt.net [213.41.78.25])    by dogma.slashnull.org (8.11.6/8.11.6) with ESMTP id g899AfC06863 for    <webmaster@efi.ie>; Mon, 9 Sep 2002 10:10:41 +0100\n",
      "Received\t:\tfrom mailsweeper.abc-arbitrage.com (mailhost2.abc-arbitrage.com    [213.41.18.43]) by smtp-ft1.fr.colt.net with ESMTP id g899AvS20929 for    <webmaster@efi.ie>; Mon, 9 Sep 2002 11:10:57 +0200\n",
      "Received\t:\tfrom 210.214.94.76 (unverified) by mailsweeper.abc-arbitrage.com    (Content Technologies SMTPRS 4.2.10) with ESMTP id    <T5d3abf3ca1c0a8bf0537c@mailsweeper.abc-arbitrage.com>; Mon,    9 Sep 2002 11:06:09 +0200\n",
      "Message-Id\t:\t<00005cd5540a$00004a9b$00007fa8@mx1.eudoramail.com>\n",
      "To\t:\tUndisclosed.Recipients@smtp-ft1.fr.colt.net\n",
      "From\t:\tpamela4701@eudoramail.com\n",
      "Subject\t:\tLet us find the right mortgage lender for you      AFPE\n",
      "Date\t:\tMon, 09 Sep 2002 14:36:18 -0700\n",
      "MIME-Version\t:\t1.0\n",
      "Content-Type\t:\ttext/plain; charset=\"Windows-1252\"\n",
      "Content-Transfer-Encoding\t:\t7bit\n"
     ]
    }
   ],
   "source": [
    "for header, value in spam_emails[0].items():\n",
    "    print(header + \"\\t:\\t\" + value)"
   ]
  },
  {
   "cell_type": "code",
   "execution_count": 142,
   "metadata": {},
   "outputs": [],
   "source": [
    "import numpy as np\n",
    "from sklearn.model_selection import train_test_split\n",
    "\n",
    "X = np.array(ham_emails + spam_emails, dtype=object)\n",
    "y = np.array([0] * len(ham_emails) + [1] * len(spam_emails))\n",
    "\n",
    "X_train, X_test, y_train, y_test = train_test_split(X, y, test_size=0.2)"
   ]
  },
  {
   "cell_type": "code",
   "execution_count": 143,
   "metadata": {},
   "outputs": [],
   "source": [
    "from bs4 import BeautifulSoup\n",
    "\n",
    "def clean_html(email):\n",
    "    soup = BeautifulSoup(email, \"html.parser\")\n",
    "\n",
    "    for data in soup(\"style\", \"script\"):\n",
    "        data.decompose()\n",
    "\n",
    "    return \" \".join(soup.stripped_strings)"
   ]
  },
  {
   "cell_type": "code",
   "execution_count": 144,
   "metadata": {},
   "outputs": [
    {
     "data": {
      "text/plain": [
       "'<HTML>\\n<HEAD>\\n</HEAD>\\n<BODY>\\n<FONT SIZE=\"4\"><B> A man endowed with a 7 - 8\" hammer is simply<br>\\n better equipped than a man with a 5 - 6\" hammer. <BR>\\n<BR>Would you rather have<br>more than enough to get the job done or fall very short. It\\'s totally up<br>to you. Our Methods are guaranteed to incre'"
      ]
     },
     "execution_count": 144,
     "metadata": {},
     "output_type": "execute_result"
    }
   ],
   "source": [
    "html_spam_emails = [email for email in X_train[y_train == 1] if get_email_structure(email) == \"text/html\" ]\n",
    "\n",
    "sample_html_email = html_spam_emails[0]\n",
    "sample_html_email.get_content().strip()[:300]"
   ]
  },
  {
   "cell_type": "code",
   "execution_count": 145,
   "metadata": {},
   "outputs": [
    {
     "data": {
      "text/plain": [
       "'A man endowed with a 7 - 8\" hammer is simply better equipped than a man with a 5 - 6\" hammer. Would you rather have more than enough to get the job done or fall very short. It\\'s totally up to you. Our Methods are guaranteed to increase your size by 1 - 3\" Enter here and see how'"
      ]
     },
     "execution_count": 145,
     "metadata": {},
     "output_type": "execute_result"
    }
   ],
   "source": [
    "sample_html_email = clean_html(sample_html_email.get_content())\n",
    "sample_html_email[:300]"
   ]
  },
  {
   "cell_type": "code",
   "execution_count": 146,
   "metadata": {},
   "outputs": [],
   "source": [
    "def email_to_text(email):\n",
    "\n",
    "    for part in email.walk():\n",
    "        c_type = part.get_content_type()\n",
    "\n",
    "        if not c_type in (\"text/plain\", \"text/html\"):\n",
    "            continue\n",
    "    \n",
    "        try:\n",
    "            content = part.get_content()\n",
    "        except: # in case of encoding issues\n",
    "            content = str(part.get_payload())\n",
    "\n",
    "        if c_type == \"text/plain\":\n",
    "            return content\n",
    "        html = clean_html(content)\n",
    "        \n",
    "        if html:\n",
    "            return html"
   ]
  },
  {
   "cell_type": "code",
   "execution_count": 147,
   "metadata": {},
   "outputs": [
    {
     "name": "stdout",
     "output_type": "stream",
     "text": [
      "A man endowed with a 7 - 8\" hammer is simply better equipped than a man with a 5 - 6\" hammer. Would you rather have more than enough to get the job done or fall very short. It's totally up to you. Our\n"
     ]
    }
   ],
   "source": [
    "print(email_to_text(html_spam_emails[0])[:200])"
   ]
  },
  {
   "cell_type": "code",
   "execution_count": 148,
   "metadata": {},
   "outputs": [],
   "source": [
    "from sklearn.base import BaseEstimator, TransformerMixin\n",
    "import urlextract\n",
    "import re\n",
    "import nltk\n",
    "\n",
    "stemmer = nltk.PorterStemmer()\n",
    "url_extractor = urlextract.URLExtract()\n",
    "\n",
    "class EmailToWordCounter(BaseEstimator, TransformerMixin):\n",
    "    def __init__(self, strip_headers=True, lower_case=True, remove_punctuation=True, replace_urls=True, replace_numbers=True, stemming=True, ):\n",
    "        self.strip_headers = strip_headers\n",
    "        self.lower_case = lower_case\n",
    "        self.remove_punctuation = remove_punctuation\n",
    "        self.replace_urls = replace_urls\n",
    "        self.replace_numbers = replace_numbers\n",
    "        self.stemming = stemming\n",
    "    def fit(self, X, y=None):\n",
    "        return self\n",
    "    def transform(self, X, y=None):\n",
    "        X_transformed = []\n",
    "\n",
    "        for email in X:\n",
    "            text = email_to_text(email) or \"\"\n",
    "            if self.lower_case:\n",
    "                text = text.lower()\n",
    "            if self.replace_urls:\n",
    "                urls = list(set(url_extractor.find_urls(text)))\n",
    "                urls.sort(key=lambda x: len(x), reverse=True)\n",
    "                for url in urls:\n",
    "                    text = text.replace(url, \"URL\")\n",
    "            if self.replace_numbers:\n",
    "                text = re.sub(r'\\d+(?:\\.\\d*)?(?:[eE][+-]?\\d+)?', 'NUMBER', text)\n",
    "            if self.remove_punctuation:\n",
    "                text = re.sub(r'\\W+', ' ', text, flags=re.M)\n",
    "            \n",
    "            word_counts = Counter(text.split())\n",
    "            if self.stemming:\n",
    "                stemmed_word_counts = Counter()\n",
    "                for word, count in word_counts.items():\n",
    "                    stemmed_word = stemmer.stem(word)\n",
    "                    stemmed_word_counts[stemmed_word] += count\n",
    "                word_counts = stemmed_word_counts\n",
    "            X_transformed.append(word_counts)\n",
    "        return np.array(X_transformed)\n",
    "\n"
   ]
  },
  {
   "cell_type": "code",
   "execution_count": 149,
   "metadata": {},
   "outputs": [
    {
     "data": {
      "text/plain": [
       "array([Counter({'number': 6, 'a': 4, 'to': 3, 'man': 2, 'with': 2, 'hammer': 2, 'than': 2, 'you': 2, 'endow': 1, 'is': 1, 'simpli': 1, 'better': 1, 'equip': 1, 'would': 1, 'rather': 1, 'have': 1, 'more': 1, 'enough': 1, 'get': 1, 'the': 1, 'job': 1, 'done': 1, 'or': 1, 'fall': 1, 'veri': 1, 'short': 1, 'it': 1, 's': 1, 'total': 1, 'up': 1, 'our': 1, 'method': 1, 'are': 1, 'guarante': 1, 'increas': 1, 'your': 1, 'size': 1, 'by': 1, 'enter': 1, 'here': 1, 'and': 1, 'see': 1, 'how': 1})],\n",
       "      dtype=object)"
      ]
     },
     "execution_count": 149,
     "metadata": {},
     "output_type": "execute_result"
    }
   ],
   "source": [
    "EmailToWordCounter().fit_transform([html_spam_emails[0]])"
   ]
  },
  {
   "cell_type": "code",
   "execution_count": 150,
   "metadata": {},
   "outputs": [],
   "source": [
    "from scipy.sparse import csr_matrix\n",
    "\n",
    "class WordCounterToVector(BaseEstimator, TransformerMixin):\n",
    "    def __init__(self, vocab_size=1000):\n",
    "        self.vocab_size = vocab_size\n",
    "    def fit(self, X, y=None):\n",
    "        total_count = Counter()\n",
    "        for word_count in X:\n",
    "            for word, count in word_count.items():\n",
    "                total_count[word] += count\n",
    "        most_common = total_count.most_common()[:self.vocab_size]\n",
    "        self.vocab_ = {word: index + 1 for index, (word, count) in enumerate(most_common)}\n",
    "        return self\n",
    "    def transform(self, X, y=None):\n",
    "        rows = []\n",
    "        cols = []\n",
    "        data = []\n",
    "\n",
    "        for row, word_count in enumerate(X):\n",
    "            for word, count in word_count.items():\n",
    "                rows.append(row)\n",
    "                cols.append(self.vocab_.get(word, 0))\n",
    "                data.append(count)\n",
    "        return csr_matrix((data, (rows, cols)), shape=(len(X), self.vocab_size + 1))"
   ]
  },
  {
   "cell_type": "code",
   "execution_count": 151,
   "metadata": {},
   "outputs": [],
   "source": [
    "from sklearn.pipeline import Pipeline\n",
    "\n",
    "preprocess_pipeline = Pipeline([\n",
    "    (\"email_to_wordcount\", EmailToWordCounter()),\n",
    "    (\"wordcount_to_vector\", WordCounterToVector()),\n",
    "])\n",
    "\n",
    "X_train_transformed = preprocess_pipeline.fit_transform(X_train)"
   ]
  },
  {
   "cell_type": "code",
   "execution_count": 153,
   "metadata": {},
   "outputs": [],
   "source": [
    "from sklearn.linear_model import LogisticRegression\n",
    "from sklearn.model_selection import cross_val_score\n",
    "\n",
    "log_clf = LogisticRegression(max_iter=1000, random_state=42)\n",
    "score = cross_val_score(log_clf, X_train_transformed, y_train, cv=3)"
   ]
  },
  {
   "cell_type": "code",
   "execution_count": 154,
   "metadata": {},
   "outputs": [
    {
     "data": {
      "text/plain": [
       "array([0.98875, 0.99   , 0.98375])"
      ]
     },
     "execution_count": 154,
     "metadata": {},
     "output_type": "execute_result"
    }
   ],
   "source": [
    "score"
   ]
  },
  {
   "cell_type": "code",
   "execution_count": 155,
   "metadata": {},
   "outputs": [
    {
     "data": {
      "text/plain": [
       "0.9874999999999999"
      ]
     },
     "execution_count": 155,
     "metadata": {},
     "output_type": "execute_result"
    }
   ],
   "source": [
    "score.mean()"
   ]
  },
  {
   "cell_type": "code",
   "execution_count": null,
   "metadata": {},
   "outputs": [],
   "source": []
  }
 ],
 "metadata": {
  "interpreter": {
   "hash": "e35c5856cff72d20e6e0e19445c0d45b03888a7b19367444be448131dd51e693"
  },
  "kernelspec": {
   "display_name": "Python 3.10.2 64-bit ('ML': conda)",
   "language": "python",
   "name": "python3"
  },
  "language_info": {
   "codemirror_mode": {
    "name": "ipython",
    "version": 3
   },
   "file_extension": ".py",
   "mimetype": "text/x-python",
   "name": "python",
   "nbconvert_exporter": "python",
   "pygments_lexer": "ipython3",
   "version": "3.10.2"
  },
  "orig_nbformat": 4
 },
 "nbformat": 4,
 "nbformat_minor": 2
}
