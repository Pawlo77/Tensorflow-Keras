{
 "cells": [
  {
   "cell_type": "code",
   "execution_count": 1,
   "metadata": {},
   "outputs": [],
   "source": [
    "from sklearn.datasets import fetch_openml\n",
    "\n",
    "mnist = fetch_openml(\"mnist_784\")"
   ]
  },
  {
   "cell_type": "code",
   "execution_count": 2,
   "metadata": {},
   "outputs": [
    {
     "data": {
      "text/plain": [
       "dict_keys(['data', 'target', 'frame', 'categories', 'feature_names', 'target_names', 'DESCR', 'details', 'url'])"
      ]
     },
     "execution_count": 2,
     "metadata": {},
     "output_type": "execute_result"
    }
   ],
   "source": [
    "mnist.keys()"
   ]
  },
  {
   "cell_type": "code",
   "execution_count": 3,
   "metadata": {},
   "outputs": [
    {
     "data": {
      "text/plain": [
       "\"**Author**: Yann LeCun, Corinna Cortes, Christopher J.C. Burges  \\n**Source**: [MNIST Website](http://yann.lecun.com/exdb/mnist/) - Date unknown  \\n**Please cite**:  \\n\\nThe MNIST database of handwritten digits with 784 features, raw data available at: http://yann.lecun.com/exdb/mnist/. It can be split in a training set of the first 60,000 examples, and a test set of 10,000 examples  \\n\\nIt is a subset of a larger set available from NIST. The digits have been size-normalized and centered in a fixed-size image. It is a good database for people who want to try learning techniques and pattern recognition methods on real-world data while spending minimal efforts on preprocessing and formatting. The original black and white (bilevel) images from NIST were size normalized to fit in a 20x20 pixel box while preserving their aspect ratio. The resulting images contain grey levels as a result of the anti-aliasing technique used by the normalization algorithm. the images were centered in a 28x28 image by computing the center of mass of the pixels, and translating the image so as to position this point at the center of the 28x28 field.  \\n\\nWith some classification methods (particularly template-based methods, such as SVM and K-nearest neighbors), the error rate improves when the digits are centered by bounding box rather than center of mass. If you do this kind of pre-processing, you should report it in your publications. The MNIST database was constructed from NIST's NIST originally designated SD-3 as their training set and SD-1 as their test set. However, SD-3 is much cleaner and easier to recognize than SD-1. The reason for this can be found on the fact that SD-3 was collected among Census Bureau employees, while SD-1 was collected among high-school students. Drawing sensible conclusions from learning experiments requires that the result be independent of the choice of training set and test among the complete set of samples. Therefore it was necessary to build a new database by mixing NIST's datasets.  \\n\\nThe MNIST training set is composed of 30,000 patterns from SD-3 and 30,000 patterns from SD-1. Our test set was composed of 5,000 patterns from SD-3 and 5,000 patterns from SD-1. The 60,000 pattern training set contained examples from approximately 250 writers. We made sure that the sets of writers of the training set and test set were disjoint. SD-1 contains 58,527 digit images written by 500 different writers. In contrast to SD-3, where blocks of data from each writer appeared in sequence, the data in SD-1 is scrambled. Writer identities for SD-1 is available and we used this information to unscramble the writers. We then split SD-1 in two: characters written by the first 250 writers went into our new training set. The remaining 250 writers were placed in our test set. Thus we had two sets with nearly 30,000 examples each. The new training set was completed with enough examples from SD-3, starting at pattern # 0, to make a full set of 60,000 training patterns. Similarly, the new test set was completed with SD-3 examples starting at pattern # 35,000 to make a full set with 60,000 test patterns. Only a subset of 10,000 test images (5,000 from SD-1 and 5,000 from SD-3) is available on this site. The full 60,000 sample training set is available.\\n\\nDownloaded from openml.org.\""
      ]
     },
     "execution_count": 3,
     "metadata": {},
     "output_type": "execute_result"
    }
   ],
   "source": [
    "mnist[\"DESCR\"]"
   ]
  },
  {
   "cell_type": "code",
   "execution_count": 4,
   "metadata": {},
   "outputs": [],
   "source": [
    "X = mnist[\"data\"]\n",
    "y = mnist[\"target\"]"
   ]
  },
  {
   "cell_type": "code",
   "execution_count": 5,
   "metadata": {},
   "outputs": [],
   "source": [
    "X_train, X_test = X[:60000], X[60000:]\n",
    "y_train, y_test = y[:60000], y[60000:]"
   ]
  },
  {
   "cell_type": "code",
   "execution_count": 6,
   "metadata": {},
   "outputs": [],
   "source": [
    "from sklearn.pipeline import Pipeline\n",
    "from sklearn.preprocessing import StandardScaler\n",
    "\n",
    "prep_pipeline = Pipeline([\n",
    "    (\"scaler\", StandardScaler())\n",
    "])\n",
    "X_train = prep_pipeline.fit_transform(X_train)\n",
    "X_test = prep_pipeline.transform(X_test)"
   ]
  },
  {
   "cell_type": "code",
   "execution_count": 7,
   "metadata": {},
   "outputs": [],
   "source": [
    "X_val, y_val = X[:10000], y[:10000]"
   ]
  },
  {
   "cell_type": "code",
   "execution_count": 8,
   "metadata": {},
   "outputs": [
    {
     "name": "stderr",
     "output_type": "stream",
     "text": [
      "/opt/homebrew/Caskroom/miniforge/base/envs/ML/lib/python3.10/site-packages/sklearn/svm/_base.py:1206: ConvergenceWarning: Liblinear failed to converge, increase the number of iterations.\n",
      "  warnings.warn(\n",
      "/opt/homebrew/Caskroom/miniforge/base/envs/ML/lib/python3.10/site-packages/sklearn/svm/_base.py:1206: ConvergenceWarning: Liblinear failed to converge, increase the number of iterations.\n",
      "  warnings.warn(\n",
      "/opt/homebrew/Caskroom/miniforge/base/envs/ML/lib/python3.10/site-packages/sklearn/svm/_base.py:1206: ConvergenceWarning: Liblinear failed to converge, increase the number of iterations.\n",
      "  warnings.warn(\n",
      "/opt/homebrew/Caskroom/miniforge/base/envs/ML/lib/python3.10/site-packages/sklearn/svm/_base.py:1206: ConvergenceWarning: Liblinear failed to converge, increase the number of iterations.\n",
      "  warnings.warn(\n",
      "/opt/homebrew/Caskroom/miniforge/base/envs/ML/lib/python3.10/site-packages/sklearn/svm/_base.py:1206: ConvergenceWarning: Liblinear failed to converge, increase the number of iterations.\n",
      "  warnings.warn(\n",
      "/opt/homebrew/Caskroom/miniforge/base/envs/ML/lib/python3.10/site-packages/sklearn/svm/_base.py:1206: ConvergenceWarning: Liblinear failed to converge, increase the number of iterations.\n",
      "  warnings.warn(\n",
      "/opt/homebrew/Caskroom/miniforge/base/envs/ML/lib/python3.10/site-packages/sklearn/svm/_base.py:1206: ConvergenceWarning: Liblinear failed to converge, increase the number of iterations.\n",
      "  warnings.warn(\n",
      "/opt/homebrew/Caskroom/miniforge/base/envs/ML/lib/python3.10/site-packages/sklearn/svm/_base.py:1206: ConvergenceWarning: Liblinear failed to converge, increase the number of iterations.\n",
      "  warnings.warn(\n",
      "/opt/homebrew/Caskroom/miniforge/base/envs/ML/lib/python3.10/site-packages/sklearn/svm/_base.py:1206: ConvergenceWarning: Liblinear failed to converge, increase the number of iterations.\n",
      "  warnings.warn(\n",
      "/opt/homebrew/Caskroom/miniforge/base/envs/ML/lib/python3.10/site-packages/sklearn/svm/_base.py:1206: ConvergenceWarning: Liblinear failed to converge, increase the number of iterations.\n",
      "  warnings.warn(\n",
      "/opt/homebrew/Caskroom/miniforge/base/envs/ML/lib/python3.10/site-packages/sklearn/svm/_base.py:1206: ConvergenceWarning: Liblinear failed to converge, increase the number of iterations.\n",
      "  warnings.warn(\n",
      "/opt/homebrew/Caskroom/miniforge/base/envs/ML/lib/python3.10/site-packages/sklearn/svm/_base.py:1206: ConvergenceWarning: Liblinear failed to converge, increase the number of iterations.\n",
      "  warnings.warn(\n",
      "/opt/homebrew/Caskroom/miniforge/base/envs/ML/lib/python3.10/site-packages/sklearn/svm/_base.py:1206: ConvergenceWarning: Liblinear failed to converge, increase the number of iterations.\n",
      "  warnings.warn(\n",
      "/opt/homebrew/Caskroom/miniforge/base/envs/ML/lib/python3.10/site-packages/sklearn/svm/_base.py:1206: ConvergenceWarning: Liblinear failed to converge, increase the number of iterations.\n",
      "  warnings.warn(\n",
      "/opt/homebrew/Caskroom/miniforge/base/envs/ML/lib/python3.10/site-packages/sklearn/svm/_base.py:1206: ConvergenceWarning: Liblinear failed to converge, increase the number of iterations.\n",
      "  warnings.warn(\n",
      "/opt/homebrew/Caskroom/miniforge/base/envs/ML/lib/python3.10/site-packages/sklearn/svm/_base.py:1206: ConvergenceWarning: Liblinear failed to converge, increase the number of iterations.\n",
      "  warnings.warn(\n",
      "/opt/homebrew/Caskroom/miniforge/base/envs/ML/lib/python3.10/site-packages/sklearn/svm/_base.py:1206: ConvergenceWarning: Liblinear failed to converge, increase the number of iterations.\n",
      "  warnings.warn(\n",
      "/opt/homebrew/Caskroom/miniforge/base/envs/ML/lib/python3.10/site-packages/sklearn/svm/_base.py:1206: ConvergenceWarning: Liblinear failed to converge, increase the number of iterations.\n",
      "  warnings.warn(\n",
      "/opt/homebrew/Caskroom/miniforge/base/envs/ML/lib/python3.10/site-packages/sklearn/svm/_base.py:1206: ConvergenceWarning: Liblinear failed to converge, increase the number of iterations.\n",
      "  warnings.warn(\n",
      "/opt/homebrew/Caskroom/miniforge/base/envs/ML/lib/python3.10/site-packages/sklearn/svm/_base.py:1206: ConvergenceWarning: Liblinear failed to converge, increase the number of iterations.\n",
      "  warnings.warn(\n",
      "/opt/homebrew/Caskroom/miniforge/base/envs/ML/lib/python3.10/site-packages/sklearn/svm/_base.py:1206: ConvergenceWarning: Liblinear failed to converge, increase the number of iterations.\n",
      "  warnings.warn(\n",
      "/opt/homebrew/Caskroom/miniforge/base/envs/ML/lib/python3.10/site-packages/sklearn/svm/_base.py:1206: ConvergenceWarning: Liblinear failed to converge, increase the number of iterations.\n",
      "  warnings.warn(\n",
      "/opt/homebrew/Caskroom/miniforge/base/envs/ML/lib/python3.10/site-packages/sklearn/svm/_base.py:1206: ConvergenceWarning: Liblinear failed to converge, increase the number of iterations.\n",
      "  warnings.warn(\n",
      "/opt/homebrew/Caskroom/miniforge/base/envs/ML/lib/python3.10/site-packages/sklearn/svm/_base.py:1206: ConvergenceWarning: Liblinear failed to converge, increase the number of iterations.\n",
      "  warnings.warn(\n",
      "/opt/homebrew/Caskroom/miniforge/base/envs/ML/lib/python3.10/site-packages/sklearn/svm/_base.py:1206: ConvergenceWarning: Liblinear failed to converge, increase the number of iterations.\n",
      "  warnings.warn(\n",
      "/opt/homebrew/Caskroom/miniforge/base/envs/ML/lib/python3.10/site-packages/sklearn/svm/_base.py:1206: ConvergenceWarning: Liblinear failed to converge, increase the number of iterations.\n",
      "  warnings.warn(\n",
      "/opt/homebrew/Caskroom/miniforge/base/envs/ML/lib/python3.10/site-packages/sklearn/svm/_base.py:1206: ConvergenceWarning: Liblinear failed to converge, increase the number of iterations.\n",
      "  warnings.warn(\n",
      "/opt/homebrew/Caskroom/miniforge/base/envs/ML/lib/python3.10/site-packages/sklearn/svm/_base.py:1206: ConvergenceWarning: Liblinear failed to converge, increase the number of iterations.\n",
      "  warnings.warn(\n",
      "/opt/homebrew/Caskroom/miniforge/base/envs/ML/lib/python3.10/site-packages/sklearn/svm/_base.py:1206: ConvergenceWarning: Liblinear failed to converge, increase the number of iterations.\n",
      "  warnings.warn(\n",
      "/opt/homebrew/Caskroom/miniforge/base/envs/ML/lib/python3.10/site-packages/sklearn/svm/_base.py:1206: ConvergenceWarning: Liblinear failed to converge, increase the number of iterations.\n",
      "  warnings.warn(\n",
      "/opt/homebrew/Caskroom/miniforge/base/envs/ML/lib/python3.10/site-packages/sklearn/svm/_base.py:1206: ConvergenceWarning: Liblinear failed to converge, increase the number of iterations.\n",
      "  warnings.warn(\n",
      "/opt/homebrew/Caskroom/miniforge/base/envs/ML/lib/python3.10/site-packages/sklearn/svm/_base.py:1206: ConvergenceWarning: Liblinear failed to converge, increase the number of iterations.\n",
      "  warnings.warn(\n",
      "/opt/homebrew/Caskroom/miniforge/base/envs/ML/lib/python3.10/site-packages/sklearn/svm/_base.py:1206: ConvergenceWarning: Liblinear failed to converge, increase the number of iterations.\n",
      "  warnings.warn(\n",
      "/opt/homebrew/Caskroom/miniforge/base/envs/ML/lib/python3.10/site-packages/sklearn/svm/_base.py:1206: ConvergenceWarning: Liblinear failed to converge, increase the number of iterations.\n",
      "  warnings.warn(\n",
      "/opt/homebrew/Caskroom/miniforge/base/envs/ML/lib/python3.10/site-packages/sklearn/svm/_base.py:1206: ConvergenceWarning: Liblinear failed to converge, increase the number of iterations.\n",
      "  warnings.warn(\n",
      "/opt/homebrew/Caskroom/miniforge/base/envs/ML/lib/python3.10/site-packages/sklearn/model_selection/_validation.py:372: FitFailedWarning: \n",
      "35 fits failed out of a total of 70.\n",
      "The score on these train-test partitions for these parameters will be set to nan.\n",
      "If these failures are not expected, you can try to debug them by setting error_score='raise'.\n",
      "\n",
      "Below are more details about the failures:\n",
      "--------------------------------------------------------------------------------\n",
      "35 fits failed with the following error:\n",
      "Traceback (most recent call last):\n",
      "  File \"/opt/homebrew/Caskroom/miniforge/base/envs/ML/lib/python3.10/site-packages/sklearn/model_selection/_validation.py\", line 680, in _fit_and_score\n",
      "    estimator.fit(X_train, y_train, **fit_params)\n",
      "  File \"/opt/homebrew/Caskroom/miniforge/base/envs/ML/lib/python3.10/site-packages/sklearn/svm/_classes.py\", line 257, in fit\n",
      "    self.coef_, self.intercept_, self.n_iter_ = _fit_liblinear(\n",
      "  File \"/opt/homebrew/Caskroom/miniforge/base/envs/ML/lib/python3.10/site-packages/sklearn/svm/_base.py\", line 1185, in _fit_liblinear\n",
      "    solver_type = _get_liblinear_solver_type(multi_class, penalty, loss, dual)\n",
      "  File \"/opt/homebrew/Caskroom/miniforge/base/envs/ML/lib/python3.10/site-packages/sklearn/svm/_base.py\", line 1024, in _get_liblinear_solver_type\n",
      "    raise ValueError(\n",
      "ValueError: Unsupported set of arguments: The combination of penalty='l1' and loss='squared_hinge' are not supported when dual=True, Parameters: penalty='l1', loss='squared_hinge', dual=True\n",
      "\n",
      "  warnings.warn(some_fits_failed_message, FitFailedWarning)\n",
      "/opt/homebrew/Caskroom/miniforge/base/envs/ML/lib/python3.10/site-packages/sklearn/model_selection/_search.py:969: UserWarning: One or more of the test scores are non-finite: [   nan 0.8514    nan 0.8479    nan 0.8529    nan 0.8547    nan 0.8512\n",
      "    nan 0.8512    nan 0.8509]\n",
      "  warnings.warn(\n",
      "/opt/homebrew/Caskroom/miniforge/base/envs/ML/lib/python3.10/site-packages/sklearn/svm/_base.py:1206: ConvergenceWarning: Liblinear failed to converge, increase the number of iterations.\n",
      "  warnings.warn(\n"
     ]
    },
    {
     "data": {
      "text/plain": [
       "{'C': 5, 'penalty': 'l2'}"
      ]
     },
     "execution_count": 8,
     "metadata": {},
     "output_type": "execute_result"
    }
   ],
   "source": [
    "# lets start with LinearSVC\n",
    "from sklearn.svm import LinearSVC\n",
    "from sklearn.model_selection import GridSearchCV\n",
    "\n",
    "lin_svm_clf = LinearSVC(random_state=42)\n",
    "param = {\n",
    "    \"penalty\": [\"l1\", \"l2\"],\n",
    "    \"C\": [1, 2, 3, 5, 10, 20, 50]\n",
    "}\n",
    "grid = GridSearchCV(lin_svm_clf, param, n_jobs=-1, cv=5)\n",
    "grid.fit(X_val, y_val)\n",
    "grid.best_params_"
   ]
  },
  {
   "cell_type": "code",
   "execution_count": 9,
   "metadata": {},
   "outputs": [
    {
     "name": "stderr",
     "output_type": "stream",
     "text": [
      "/opt/homebrew/Caskroom/miniforge/base/envs/ML/lib/python3.10/site-packages/sklearn/svm/_base.py:1206: ConvergenceWarning: Liblinear failed to converge, increase the number of iterations.\n",
      "  warnings.warn(\n"
     ]
    },
    {
     "data": {
      "text/plain": [
       "LinearSVC(C=5)"
      ]
     },
     "execution_count": 9,
     "metadata": {},
     "output_type": "execute_result"
    }
   ],
   "source": [
    "lin_svm_clf = LinearSVC(**grid.best_params_)\n",
    "lin_svm_clf.fit(X_train, y_train)"
   ]
  },
  {
   "cell_type": "code",
   "execution_count": 10,
   "metadata": {},
   "outputs": [
    {
     "name": "stdout",
     "output_type": "stream",
     "text": [
      "Train accuracy score: 0.89465.\n",
      "Test accuracy score: 0.8882.\n"
     ]
    }
   ],
   "source": [
    "from sklearn.metrics import accuracy_score\n",
    "\n",
    "def get_accuracy_score(model, X_train, y_train, X_test, y_test):\n",
    "    y_pred_train = model.predict(X_train)\n",
    "    y_pred_test = model.predict(X_test)\n",
    "\n",
    "    acs_train = accuracy_score(y_train, y_pred_train)\n",
    "    acs_test = accuracy_score(y_test, y_pred_test)\n",
    "\n",
    "    print(f\"Train accuracy score: {acs_train}.\")\n",
    "    print(f\"Test accuracy score: {acs_test}.\")\n",
    "\n",
    "get_accuracy_score(lin_svm_clf, X_train, y_train, X_test, y_test)"
   ]
  },
  {
   "cell_type": "code",
   "execution_count": 11,
   "metadata": {},
   "outputs": [],
   "source": [
    "X_train2, X_test2 = X[:60000], X[60000:]\n",
    "y_train2, y_test2 = y[:60000], y[60000:]"
   ]
  },
  {
   "cell_type": "code",
   "execution_count": 12,
   "metadata": {},
   "outputs": [
    {
     "name": "stdout",
     "output_type": "stream",
     "text": [
      "Train accuracy score: 0.898.\n",
      "Test accuracy score: 0.8912.\n"
     ]
    },
    {
     "name": "stderr",
     "output_type": "stream",
     "text": [
      "/opt/homebrew/Caskroom/miniforge/base/envs/ML/lib/python3.10/site-packages/sklearn/svm/_base.py:1206: ConvergenceWarning: Liblinear failed to converge, increase the number of iterations.\n",
      "  warnings.warn(\n"
     ]
    }
   ],
   "source": [
    "import numpy as np\n",
    "\n",
    "# apparently as float32 it gets even higher scores\n",
    "scaler = StandardScaler()\n",
    "X_train2 = scaler.fit_transform(X_train2.astype(np.float32))\n",
    "X_test2 = scaler.fit_transform(X_test2.astype(np.float32))\n",
    "\n",
    "clf = LinearSVC(**grid.best_params_)\n",
    "clf.fit(X_train2, y_train2)\n",
    "get_accuracy_score(clf, X_train2, y_train2, X_test2, y_test2)"
   ]
  },
  {
   "cell_type": "code",
   "execution_count": 13,
   "metadata": {},
   "outputs": [],
   "source": [
    "from sklearn.svm import SVC\n",
    "\n",
    "svm_clf = SVC(random_state=42)\n",
    "param = {\n",
    "    \"C\": [1, 5, 10, 25, 50, 100],\n",
    "    \"kernel\": [\"linear\", \"poly\", \"rbf\"],\n",
    "    \"degree\": [2, 3, 4],\n",
    "    \"gamma\": [\"scale\", \"auto\", 0.001, 0.01, 0.1, 0.5],\n",
    "    \"coef_1\": [0.0, 0.2, 0.5, 1]\n",
    "}\n",
    "grid = GridSearchCV(lin_svm_clf, param, n_jobs=-1, cv=5)\n",
    "grid.fit(X_val, y_val)\n",
    "grid.best_params_"
   ]
  },
  {
   "cell_type": "markdown",
   "metadata": {},
   "source": [
    "from scipy.stats import racipostal, uniform\n",
    "from sklearn.model_selection import RandomizedSearchCV\n",
    "\n",
    "param = {\n",
    "    \"gamma\": racipostal\n",
    "}"
   ]
  },
  {
   "cell_type": "code",
   "execution_count": null,
   "metadata": {},
   "outputs": [],
   "source": []
  },
  {
   "cell_type": "code",
   "execution_count": 2,
   "metadata": {},
   "outputs": [],
   "source": [
    "import tensorflow as tf\n",
    "import tensorflow.keras as keras\n",
    "import tensorflow_addons as tfa\n",
    "import numpy as np\n",
    "\n",
    "tf.random.set_seed(42)\n",
    "np.random.seed(42)"
   ]
  },
  {
   "cell_type": "code",
   "execution_count": 8,
   "metadata": {},
   "outputs": [
    {
     "name": "stderr",
     "output_type": "stream",
     "text": [
      "C:\\Users\\pawpo\\miniconda3\\envs\\gpu\\lib\\site-packages\\tqdm\\auto.py:22: TqdmWarning: IProgress not found. Please update jupyter and ipywidgets. See https://ipywidgets.readthedocs.io/en/stable/user_install.html\n",
      "  from .autonotebook import tqdm as notebook_tqdm\n"
     ]
    }
   ],
   "source": [
    "import tensorflow_datasets as tfds\n",
    "\n",
    "(train_raw, val_raw, test_raw), info = tfds.load(\"mnist\", split=[\"train[:85%]\", \"train[85%:95%]\", \"train[95%:]\"], as_supervised=True, with_info=True)"
   ]
  },
  {
   "cell_type": "code",
   "execution_count": 9,
   "metadata": {},
   "outputs": [],
   "source": [
    "LABELS = info.features[\"label\"].names\n",
    "NUM_CLASSES = info.features[\"label\"].num_classes\n",
    "SIZE = info.splits[\"train\"].num_examples\n",
    "TRAIN_SIZE, VAL_SIZE, TEST_SIZE = (int(x * SIZE) for x in (0.8, 0.15, 0.05))"
   ]
  },
  {
   "cell_type": "code",
   "execution_count": 4,
   "metadata": {},
   "outputs": [
    {
     "data": {
      "image/png": "[encoded data removed]",
      "text/plain": [
       "<Figure size 648x648 with 9 Axes>"
      ]
     },
     "metadata": {},
     "output_type": "display_data"
    }
   ],
   "source": [
    "import matplotlib.pyplot as plt\n",
    "\n",
    "fig = tfds.show_examples(train_raw, info)\n",
    "plt.show()"
   ]
  },
  {
   "cell_type": "code",
   "execution_count": 5,
   "metadata": {},
   "outputs": [],
   "source": [
    "BATCH_SIZE = 128\n",
    "SEED = 123\n",
    "\n",
    "def configure(ds, shuffle=False):\n",
    "    ds = ds.cache()\n",
    "\n",
    "    if shuffle:\n",
    "        ds = ds.shuffle(1000)\n",
    "\n",
    "    ds = ds.batch(BATCH_SIZE)\n",
    "    ds = ds.prefetch(tf.data.AUTOTUNE)\n",
    "    return ds\n",
    "\n",
    "def preprocess(img, label):\n",
    "    # rnd = tf.random.uniform((), 0, 4, dtype=tf.int32)\n",
    "\n",
    "    # img = tf.image.random_flip_left_right(img, SEED)\n",
    "    # img = tf.image.random_flip_up_down(img, SEED)\n",
    "    # if rnd == 0:\n",
    "    #     factor = tf.random.uniform((), 1, 4, dtype=tf.int32)\n",
    "    #     img = tf.image.rot90(img, factor)\n",
    "    \n",
    "    # if rnd == 3:\n",
    "    #     img = tf.image.transpose(img)\n",
    "\n",
    "    rnd = tf.random.uniform((), -0.3, 0.3, dtype=tf.float32) * np.pi\n",
    "    img = tfa.image.rotate(img, rnd)\n",
    "        \n",
    "    return img, label\n",
    "\n",
    "train_ds = train_raw.map(lambda x, y: (keras.layers.Rescaling(1.0/255)(x), y))\n",
    "val_ds = val_raw.map(lambda x, y: (keras.layers.Rescaling(1.0/255)(x), y))\n",
    "test_ds = test_raw.map(lambda x, y: (keras.layers.Rescaling(1.0/255)(x), y))\n",
    "\n",
    "train_ds = train_ds.map(preprocess)\n",
    "train_ds = configure(train_ds, shuffle=True).repeat()\n",
    "val_ds = configure(val_ds)\n",
    "test_ds = configure(test_ds)"
   ]
  },
  {
   "cell_type": "code",
   "execution_count": 6,
   "metadata": {},
   "outputs": [
    {
     "data": {
      "image/png": "[encoded data removed]",
      "text/plain": [
       "<Figure size 864x864 with 36 Axes>"
      ]
     },
     "metadata": {
      "needs_background": "light"
     },
     "output_type": "display_data"
    }
   ],
   "source": [
    "import numpy as np\n",
    "\n",
    "plt.figure(figsize=(12, 12))\n",
    "a = 6\n",
    "for img, label in train_ds.take(1):\n",
    "    for idx in range(a*a):\n",
    "        plt.subplot(a, a, idx+1)\n",
    "        plt.imshow(img[idx], cmap=\"binary\")\n",
    "        plt.title(f\"Class: {LABELS[label[idx]]}\")\n",
    "        plt.axis(\"off\")\n",
    "plt.show()"
   ]
  },
  {
   "cell_type": "code",
   "execution_count": 5,
   "metadata": {},
   "outputs": [],
   "source": [
    "from tensorflow.keras import layers\n",
    "from functools import partial\n",
    "\n",
    "DefautConv2D = partial(\n",
    "    layers.Conv2D,\n",
    "    kernel_size=3,\n",
    "    activation=\"relu\",\n",
    "    padding=\"SAME\",\n",
    "    strides=1\n",
    ")\n",
    "\n",
    "def create_model():\n",
    "    keras.backend.clear_session()\n",
    "\n",
    "    input_layer = layers.Input(shape=[28, 28, 1])\n",
    "    X = DefautConv2D(filters=32)(input_layer)\n",
    "    X = DefautConv2D(filters=64)(X)\n",
    "    X = layers.Lambda(tf.nn.local_response_normalization)(X)\n",
    "    X = layers.MaxPooling2D()(X)\n",
    "    X = DefautConv2D(filters=128)(X)\n",
    "    X = DefautConv2D(filters=128)(X)\n",
    "    X = layers.Lambda(tf.nn.local_response_normalization)(X)\n",
    "    X = layers.GlobalAveragePooling2D()(X)\n",
    "    X = layers.Flatten()(X)\n",
    "    X = layers.Dropout(0.2)(X)\n",
    "    X = layers.Dense(256, activation=\"relu\")(X)\n",
    "    X = layers.Dense(128, activation=\"relu\")(X)\n",
    "    X = layers.Dropout(0.5)(X)\n",
    "    output_layer = layers.Dense(NUM_CLASSES, activation=\"softmax\")(X)\n",
    "\n",
    "    return keras.Model(inputs=input_layer, outputs=output_layer)\n",
    "\n",
    "def train_model(model, optimizer, callbacks, epochs, steps_per_epoch):\n",
    "    model.compile(\n",
    "        optimizer=optimizer,\n",
    "        loss=\"sparse_categorical_crossentropy\",\n",
    "        metrics=[\"accuracy\"]\n",
    "    )\n",
    "\n",
    "    history = model.fit(\n",
    "        train_ds,\n",
    "        steps_per_epoch=steps_per_epoch,\n",
    "        validation_data=val_ds,\n",
    "        validation_steps=VAL_SIZE/BATCH_SIZE,\n",
    "        verbose=1,\n",
    "        epochs=epochs,\n",
    "        callbacks=callbacks\n",
    "    )\n",
    "    return model\n"
   ]
  },
  {
   "cell_type": "code",
   "execution_count": 13,
   "metadata": {},
   "outputs": [
    {
     "name": "stdout",
     "output_type": "stream",
     "text": [
      "Epoch 1/5\n",
      "  6/375 [..............................] - ETA: 21s - loss: 2.3027 - accuracy: 0.0898WARNING:tensorflow:Callback method `on_train_batch_end` is slow compared to the batch time (batch time: 0.0215s vs `on_train_batch_end` time: 0.0356s). Check your callbacks.\n"
     ]
    },
    {
     "name": "stderr",
     "output_type": "stream",
     "text": [
      "WARNING:tensorflow:Callback method `on_train_batch_end` is slow compared to the batch time (batch time: 0.0215s vs `on_train_batch_end` time: 0.0356s). Check your callbacks.\n"
     ]
    },
    {
     "name": "stdout",
     "output_type": "stream",
     "text": [
      "375/375 [==============================] - 23s 60ms/step - loss: 2.2637 - accuracy: 0.1506 - val_loss: 2.1897 - val_accuracy: 0.1792\n",
      "Epoch 2/5\n",
      "375/375 [==============================] - 22s 60ms/step - loss: 2.0336 - accuracy: 0.2369 - val_loss: 1.9195 - val_accuracy: 0.2527\n",
      "Epoch 3/5\n",
      "375/375 [==============================] - 22s 59ms/step - loss: 1.9812 - accuracy: 0.2517 - val_loss: 1.9973 - val_accuracy: 0.2290\n",
      "Epoch 4/5\n",
      "375/375 [==============================] - 22s 60ms/step - loss: 1.9538 - accuracy: 0.2572 - val_loss: 1.8683 - val_accuracy: 0.2967\n",
      "Epoch 5/5\n",
      "375/375 [==============================] - 22s 59ms/step - loss: 1.9299 - accuracy: 0.2660 - val_loss: 1.8480 - val_accuracy: 0.2924\n"
     ]
    },
    {
     "data": {
      "image/png": "[encoded data removed]",
      "text/plain": [
       "<Figure size 432x288 with 1 Axes>"
      ]
     },
     "metadata": {
      "needs_background": "light"
     },
     "output_type": "display_data"
    }
   ],
   "source": [
    "from utils import LRFinder\n",
    "\n",
    "EPOCH_SIZE = TRAIN_SIZE // BATCH_SIZE\n",
    "\n",
    "lr_finder = LRFinder(\n",
    "    min_lr=1e-7,\n",
    "    max_lr=1,\n",
    "    steps_per_epoch=EPOCH_SIZE,\n",
    "    epochs=5\n",
    ")\n",
    "\n",
    "model = create_model()\n",
    "\n",
    "optimizer = keras.optimizers.SGD()\n",
    "model = train_model(model, optimizer, [lr_finder], 5, EPOCH_SIZE)\n",
    "lr_finder.plot_loss()"
   ]
  },
  {
   "cell_type": "code",
   "execution_count": 14,
   "metadata": {},
   "outputs": [],
   "source": [
    "initial_learning_rate = 0.1\n",
    "maximal_learning_rate = 0.6\n",
    "step_size = 4 * EPOCH_SIZE\n",
    "training_steps = 3 * 2 * EPOCH_SIZE # scince lr will be evaluated every 2 steps\n",
    "\n",
    "cyc_lr = tfa.optimizers.CyclicalLearningRate(\n",
    "    initial_learning_rate=initial_learning_rate,\n",
    "    maximal_learning_rate=maximal_learning_rate,\n",
    "    step_size=step_size,\n",
    "    scale_fn=lambda x: (1 / (2.0 ** (x - 1))),\n",
    "    scale_mode=\"cycle\"\n",
    ")"
   ]
  },
  {
   "cell_type": "code",
   "execution_count": null,
   "metadata": {},
   "outputs": [],
   "source": [
    "optimizer = keras.optimizers.SGD(cyc_lr)\n",
    "\n",
    "callbacks = [\n",
    "    keras.callbacks.EarlyStopping(patience=10, monitor=\"val_accuracy\", verbose=1)\n",
    "]\n",
    "\n",
    "model = create_model()\n",
    "model = train_model(model, optimizer, callbacks, 20, training_steps)"
   ]
  },
  {
   "cell_type": "code",
   "execution_count": 3,
   "metadata": {},
   "outputs": [
    {
     "name": "stdout",
     "output_type": "stream",
     "text": [
      "Downloading data from https://storage.googleapis.com/tensorflow/tf-keras-datasets/mnist.npz\n",
      "11493376/11490434 [==============================] - 2s 0us/step\n",
      "11501568/11490434 [==============================] - 2s 0us/step\n"
     ]
    }
   ],
   "source": [
    "(X_train_full, y_train_full), (X_test, y_test) = keras.datasets.mnist.load_data()\n",
    "X_train_full = X_train_full / 255.\n",
    "X_test = X_test / 255.\n",
    "X_train, X_valid = X_train_full[:-5000], X_train_full[-5000:]\n",
    "y_train, y_valid = y_train_full[:-5000], y_train_full[-5000:]\n",
    "\n",
    "X_train = X_train[..., np.newaxis]\n",
    "X_valid = X_valid[..., np.newaxis]\n",
    "X_test = X_test[..., np.newaxis]"
   ]
  },
  {
   "cell_type": "code",
   "execution_count": null,
   "metadata": {},
   "outputs": [],
   "source": [
    "assert tf.test.is_gpu_available()\n",
    "assert tf.test.is_built_with_cuda()"
   ]
  },
  {
   "cell_type": "code",
   "execution_count": 11,
   "metadata": {},
   "outputs": [
    {
     "name": "stdout",
     "output_type": "stream",
     "text": [
      "Epoch 1/20\n",
      "430/430 [==============================] - 38s 67ms/step - loss: 1.1768 - accuracy: 0.5696 - val_loss: 0.3144 - val_accuracy: 0.9194\n",
      "Epoch 2/20\n",
      "430/430 [==============================] - 28s 64ms/step - loss: 0.3002 - accuracy: 0.9135 - val_loss: 0.1032 - val_accuracy: 0.9684\n",
      "Epoch 3/20\n",
      "430/430 [==============================] - 28s 65ms/step - loss: 0.1642 - accuracy: 0.9542 - val_loss: 0.0682 - val_accuracy: 0.9794\n",
      "Epoch 4/20\n",
      "430/430 [==============================] - 28s 65ms/step - loss: 0.1160 - accuracy: 0.9674 - val_loss: 0.0542 - val_accuracy: 0.9832\n",
      "Epoch 5/20\n",
      "430/430 [==============================] - 29s 66ms/step - loss: 0.0903 - accuracy: 0.9754 - val_loss: 0.0482 - val_accuracy: 0.98725 - accuracy: 0.\n",
      "Epoch 6/20\n",
      "430/430 [==============================] - 29s 67ms/step - loss: 0.0752 - accuracy: 0.9784 - val_loss: 0.0387 - val_accuracy: 0.9908\n",
      "Epoch 7/20\n",
      "430/430 [==============================] - 30s 70ms/step - loss: 0.0643 - accuracy: 0.9818 - val_loss: 0.0360 - val_accuracy: 0.9904\n",
      "Epoch 8/20\n",
      "430/430 [==============================] - 30s 70ms/step - loss: 0.0563 - accuracy: 0.9834 - val_loss: 0.0409 - val_accuracy: 0.9906\n",
      "Epoch 9/20\n",
      "430/430 [==============================] - 29s 67ms/step - loss: 0.0489 - accuracy: 0.9861 - val_loss: 0.0416 - val_accuracy: 0.9892\n",
      "Epoch 10/20\n",
      "430/430 [==============================] - 28s 66ms/step - loss: 0.0442 - accuracy: 0.9880 - val_loss: 0.0337 - val_accuracy: 0.9906\n",
      "Epoch 11/20\n",
      "430/430 [==============================] - 27s 62ms/step - loss: 0.0382 - accuracy: 0.9892 - val_loss: 0.0314 - val_accuracy: 0.9922\n",
      "Epoch 12/20\n",
      "430/430 [==============================] - 28s 64ms/step - loss: 0.0356 - accuracy: 0.9900 - val_loss: 0.0258 - val_accuracy: 0.9938\n",
      "Epoch 13/20\n",
      "430/430 [==============================] - 28s 66ms/step - loss: 0.0320 - accuracy: 0.9910 - val_loss: 0.0286 - val_accuracy: 0.99300s - loss: 0.031\n",
      "Epoch 14/20\n",
      "430/430 [==============================] - 28s 65ms/step - loss: 0.0296 - accuracy: 0.9912 - val_loss: 0.0359 - val_accuracy: 0.99220s - loss: 0.0294 - accura\n",
      "Epoch 15/20\n",
      "430/430 [==============================] - 28s 64ms/step - loss: 0.0270 - accuracy: 0.9923 - val_loss: 0.0280 - val_accuracy: 0.99280s - loss: 0.0270 - accu\n",
      "Epoch 16/20\n",
      "430/430 [==============================] - 27s 63ms/step - loss: 0.0249 - accuracy: 0.9930 - val_loss: 0.0292 - val_accuracy: 0.9928\n",
      "Epoch 17/20\n",
      "430/430 [==============================] - 27s 62ms/step - loss: 0.0224 - accuracy: 0.9935 - val_loss: 0.0270 - val_accuracy: 0.9932\n",
      "Epoch 18/20\n",
      "430/430 [==============================] - 27s 62ms/step - loss: 0.0209 - accuracy: 0.9936 - val_loss: 0.0373 - val_accuracy: 0.9928\n",
      "Epoch 19/20\n",
      "430/430 [==============================] - 27s 62ms/step - loss: 0.0207 - accuracy: 0.9937 - val_loss: 0.0303 - val_accuracy: 0.9936\n",
      "Epoch 20/20\n",
      "430/430 [==============================] - 27s 63ms/step - loss: 0.0185 - accuracy: 0.9947 - val_loss: 0.0264 - val_accuracy: 0.9942\n"
     ]
    }
   ],
   "source": [
    "model = create_model()\n",
    "\n",
    "model.compile(\n",
    "    optimizer=\"nadam\",\n",
    "    loss=\"sparse_categorical_crossentropy\",\n",
    "    metrics=[\"accuracy\"]\n",
    ")\n",
    "\n",
    "history = model.fit(\n",
    "    X_train, y_train,\n",
    "    validation_data=(X_valid, y_valid),\n",
    "    verbose=1,\n",
    "    epochs=20,\n",
    "    batch_size=128\n",
    ")"
   ]
  }
 ],
 "metadata": {
  "interpreter": {
   "hash": "e35c5856cff72d20e6e0e19445c0d45b03888a7b19367444be448131dd51e693"
  },
  "kernelspec": {
   "display_name": "Python 3.10.2 ('ML')",
   "language": "python",
   "name": "python3"
  },
  "language_info": {
   "codemirror_mode": {
    "name": "ipython",
    "version": 3
   },
   "file_extension": ".py",
   "mimetype": "text/x-python",
   "name": "python",
   "nbconvert_exporter": "python",
   "pygments_lexer": "ipython3",
   "version": "3.9.12"
  },
  "orig_nbformat": 4
 },
 "nbformat": 4,
 "nbformat_minor": 2
}
